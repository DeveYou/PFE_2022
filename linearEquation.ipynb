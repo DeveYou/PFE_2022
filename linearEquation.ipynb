{
 "cells": [
  {
   "cell_type": "code",
   "execution_count": 154,
   "metadata": {},
   "outputs": [],
   "source": [
    "import numpy as np\n",
    "import matplotlib.pyplot as plt\n",
    "import graphviz\n",
    "import sciann as sn\n",
    "import pandas as pd"
   ]
  },
  {
   "cell_type": "code",
   "execution_count": 155,
   "metadata": {},
   "outputs": [],
   "source": [
    "# generate the variable\n",
    "x = sn.Variable('x', dtype='float64')"
   ]
  },
  {
   "cell_type": "code",
   "execution_count": 156,
   "metadata": {},
   "outputs": [],
   "source": [
    "# generate the output \n",
    "u = sn.Functional('u', [x], 8*[5], 'tanh')"
   ]
  },
  {
   "cell_type": "code",
   "execution_count": 157,
   "metadata": {},
   "outputs": [],
   "source": [
    "# general equation form\n",
    "L = -sn.math.diff(u, x, order=2) - sn.exp(x)\n",
    "C = u*0.0"
   ]
  },
  {
   "cell_type": "code",
   "execution_count": 158,
   "metadata": {},
   "outputs": [
    {
     "name": "stdout",
     "output_type": "stream",
     "text": [
      "Model: \"model_12\"\n",
      "__________________________________________________________________________________________________\n",
      "Layer (type)                    Output Shape         Param #     Connected to                     \n",
      "==================================================================================================\n",
      "x (InputLayer)                  [(None, 1)]          0                                            \n",
      "__________________________________________________________________________________________________\n",
      "D5b_57 (Dense)                  (None, 5)            10          x[0][0]                          \n",
      "__________________________________________________________________________________________________\n",
      "sci_activation_94 (SciActivatio (None, 5)            0           D5b_57[0][0]                     \n",
      "__________________________________________________________________________________________________\n",
      "D5b_58 (Dense)                  (None, 5)            30          sci_activation_94[0][0]          \n",
      "__________________________________________________________________________________________________\n",
      "sci_activation_95 (SciActivatio (None, 5)            0           D5b_58[0][0]                     \n",
      "__________________________________________________________________________________________________\n",
      "D5b_59 (Dense)                  (None, 5)            30          sci_activation_95[0][0]          \n",
      "__________________________________________________________________________________________________\n",
      "sci_activation_96 (SciActivatio (None, 5)            0           D5b_59[0][0]                     \n",
      "__________________________________________________________________________________________________\n",
      "D5b_60 (Dense)                  (None, 5)            30          sci_activation_96[0][0]          \n",
      "__________________________________________________________________________________________________\n",
      "sci_activation_97 (SciActivatio (None, 5)            0           D5b_60[0][0]                     \n",
      "__________________________________________________________________________________________________\n",
      "D5b_61 (Dense)                  (None, 5)            30          sci_activation_97[0][0]          \n",
      "__________________________________________________________________________________________________\n",
      "sci_activation_98 (SciActivatio (None, 5)            0           D5b_61[0][0]                     \n",
      "__________________________________________________________________________________________________\n",
      "D5b_62 (Dense)                  (None, 5)            30          sci_activation_98[0][0]          \n",
      "__________________________________________________________________________________________________\n",
      "sci_activation_99 (SciActivatio (None, 5)            0           D5b_62[0][0]                     \n",
      "__________________________________________________________________________________________________\n",
      "D5b_63 (Dense)                  (None, 5)            30          sci_activation_99[0][0]          \n",
      "__________________________________________________________________________________________________\n",
      "sci_activation_100 (SciActivati (None, 5)            0           D5b_63[0][0]                     \n",
      "__________________________________________________________________________________________________\n",
      "D5b_64 (Dense)                  (None, 5)            30          sci_activation_100[0][0]         \n",
      "__________________________________________________________________________________________________\n",
      "sci_activation_101 (SciActivati (None, 5)            0           D5b_64[0][0]                     \n",
      "__________________________________________________________________________________________________\n",
      "u (Field)                       (None, 1)            6           sci_activation_101[0][0]         \n",
      "__________________________________________________________________________________________________\n",
      "Grad2_u_11_x/ (Lambda)          (None, 1)            0           u[0][0]                          \n",
      "__________________________________________________________________________________________________\n",
      "mul_19 (Lambda)                 (None, 1)            0           Grad2_u_11_x/[0][0]              \n",
      "__________________________________________________________________________________________________\n",
      "exp_5 (Lambda)                  (None, 1)            0           x[0][0]                          \n",
      "__________________________________________________________________________________________________\n",
      "sub_3 (Lambda)                  (None, 1)            0           mul_19[0][0]                     \n",
      "                                                                 exp_5[0][0]                      \n",
      "__________________________________________________________________________________________________\n",
      "mul_20 (Lambda)                 (None, 1)            0           u[0][0]                          \n",
      "==================================================================================================\n",
      "Total params: 226\n",
      "Trainable params: 226\n",
      "Non-trainable params: 0\n",
      "__________________________________________________________________________________________________\n"
     ]
    }
   ],
   "source": [
    "# generate the model\n",
    "model = sn.SciModel([x], [L, C, u], optimizer='adam', loss_func='mse', plot_to_file='LE-MODEL.png')\n",
    "model.summary()"
   ]
  },
  {
   "cell_type": "code",
   "execution_count": 172,
   "metadata": {},
   "outputs": [],
   "source": [
    "x_train = np.linspace(0, 1, 1000)\n",
    "x_test = np.linspace(0, 1, 11)"
   ]
  },
  {
   "cell_type": "code",
   "execution_count": 160,
   "metadata": {},
   "outputs": [
    {
     "name": "stdout",
     "output_type": "stream",
     "text": [
      "\n",
      "Total samples: 1000 \n",
      "Batch size: 64 \n",
      "Total batches: 16 \n",
      "\n",
      "Epoch 1/100\n",
      "16/16 [==============================] - 8s 34ms/step - batch: 7.5000 - size: 62.5000 - loss: 2.6861 - sub_3_loss: 2.6787 - mul_20_loss: 0.0000e+00 - u_loss: 0.0072 - lr: 0.0010 - time: 7.5970\n",
      "Epoch 2/100\n",
      "16/16 [==============================] - 0s 10ms/step - batch: 7.5000 - size: 62.5000 - loss: 1.7832 - sub_3_loss: 1.7683 - mul_20_loss: 0.0000e+00 - u_loss: 0.0155 - lr: 0.0010 - time: 0.1608\n",
      "Epoch 3/100\n",
      "16/16 [==============================] - 0s 8ms/step - batch: 7.5000 - size: 62.5000 - loss: 1.4308 - sub_3_loss: 1.4141 - mul_20_loss: 0.0000e+00 - u_loss: 0.0165 - lr: 0.0010 - time: 0.1496\n",
      "Epoch 4/100\n",
      "16/16 [==============================] - 0s 10ms/step - batch: 7.5000 - size: 62.5000 - loss: 1.1673 - sub_3_loss: 1.1457 - mul_20_loss: 0.0000e+00 - u_loss: 0.0218 - lr: 0.0010 - time: 0.2099ize: 60.5714 - loss: 1.2730 - sub_3_loss: 1.2543 - mul_20_loss: 0.0000e+00 - u_loss: 0.0187  \n",
      "Epoch 5/100\n",
      "16/16 [==============================] - 0s 9ms/step - batch: 7.5000 - size: 62.5000 - loss: 0.9090 - sub_3_loss: 0.8772 - mul_20_loss: 0.0000e+00 - u_loss: 0.0316 - lr: 0.0010 - time: 0.1449\n",
      "Epoch 6/100\n",
      "16/16 [==============================] - 0s 9ms/step - batch: 7.5000 - size: 62.5000 - loss: 0.6480 - sub_3_loss: 0.6017 - mul_20_loss: 0.0000e+00 - u_loss: 0.0461 - lr: 0.0010 - time: 0.1531\n",
      "Epoch 7/100\n",
      "16/16 [==============================] - 0s 9ms/step - batch: 7.5000 - size: 62.5000 - loss: 0.4474 - sub_3_loss: 0.3795 - mul_20_loss: 0.0000e+00 - u_loss: 0.0679 - lr: 0.0010 - time: 0.1646\n",
      "Epoch 8/100\n",
      "16/16 [==============================] - 0s 9ms/step - batch: 7.5000 - size: 62.5000 - loss: 0.3716 - sub_3_loss: 0.2814 - mul_20_loss: 0.0000e+00 - u_loss: 0.0901 - lr: 0.0010 - time: 0.1577\n",
      "Epoch 9/100\n",
      "16/16 [==============================] - 0s 10ms/step - batch: 7.5000 - size: 62.5000 - loss: 0.3465 - sub_3_loss: 0.2473 - mul_20_loss: 0.0000e+00 - u_loss: 0.0993 - lr: 0.0010 - time: 0.1694\n",
      "Epoch 10/100\n",
      "16/16 [==============================] - 0s 10ms/step - batch: 7.5000 - size: 62.5000 - loss: 0.3236 - sub_3_loss: 0.2252 - mul_20_loss: 0.0000e+00 - u_loss: 0.0985 - lr: 0.0010 - time: 0.1654\n",
      "Epoch 11/100\n",
      "16/16 [==============================] - 0s 10ms/step - batch: 7.5000 - size: 62.5000 - loss: 0.3042 - sub_3_loss: 0.2085 - mul_20_loss: 0.0000e+00 - u_loss: 0.0957 - lr: 0.0010 - time: 0.1618\n",
      "Epoch 12/100\n",
      "16/16 [==============================] - 0s 10ms/step - batch: 7.5000 - size: 62.5000 - loss: 0.2816 - sub_3_loss: 0.1871 - mul_20_loss: 0.0000e+00 - u_loss: 0.0945 - lr: 0.0010 - time: 0.1651\n",
      "Epoch 13/100\n",
      "16/16 [==============================] - 0s 10ms/step - batch: 7.5000 - size: 62.5000 - loss: 0.2572 - sub_3_loss: 0.1653 - mul_20_loss: 0.0000e+00 - u_loss: 0.0919 - lr: 0.0010 - time: 0.1689\n",
      "Epoch 14/100\n",
      "16/16 [==============================] - 0s 10ms/step - batch: 7.5000 - size: 62.5000 - loss: 0.2310 - sub_3_loss: 0.1457 - mul_20_loss: 0.0000e+00 - u_loss: 0.0853 - lr: 0.0010 - time: 0.1683\n",
      "Epoch 15/100\n",
      "16/16 [==============================] - 0s 9ms/step - batch: 7.5000 - size: 62.5000 - loss: 0.2085 - sub_3_loss: 0.1274 - mul_20_loss: 0.0000e+00 - u_loss: 0.0812 - lr: 0.0010 - time: 0.1467\n",
      "Epoch 16/100\n",
      "16/16 [==============================] - 0s 8ms/step - batch: 7.5000 - size: 62.5000 - loss: 0.1821 - sub_3_loss: 0.1076 - mul_20_loss: 0.0000e+00 - u_loss: 0.0745 - lr: 0.0010 - time: 0.1399\n",
      "Epoch 17/100\n",
      "16/16 [==============================] - 0s 8ms/step - batch: 7.5000 - size: 62.5000 - loss: 0.1560 - sub_3_loss: 0.0901 - mul_20_loss: 0.0000e+00 - u_loss: 0.0659 - lr: 0.0010 - time: 0.1539\n",
      "Epoch 18/100\n",
      "16/16 [==============================] - 0s 8ms/step - batch: 7.5000 - size: 62.5000 - loss: 0.1310 - sub_3_loss: 0.0736 - mul_20_loss: 0.0000e+00 - u_loss: 0.0575 - lr: 0.0010 - time: 0.1609\n",
      "Epoch 19/100\n",
      "16/16 [==============================] - 0s 10ms/step - batch: 7.5000 - size: 62.5000 - loss: 0.1056 - sub_3_loss: 0.0563 - mul_20_loss: 0.0000e+00 - u_loss: 0.0493 - lr: 0.0010 - time: 0.1716\n",
      "Epoch 20/100\n",
      "16/16 [==============================] - 0s 9ms/step - batch: 7.5000 - size: 62.5000 - loss: 0.0827 - sub_3_loss: 0.0437 - mul_20_loss: 0.0000e+00 - u_loss: 0.0390 - lr: 0.0010 - time: 0.1658\n",
      "Epoch 21/100\n",
      "16/16 [==============================] - 0s 9ms/step - batch: 7.5000 - size: 62.5000 - loss: 0.0635 - sub_3_loss: 0.0317 - mul_20_loss: 0.0000e+00 - u_loss: 0.0318 - lr: 0.0010 - time: 0.1491\n",
      "Epoch 22/100\n",
      "16/16 [==============================] - 0s 9ms/step - batch: 7.5000 - size: 62.5000 - loss: 0.0486 - sub_3_loss: 0.0246 - mul_20_loss: 0.0000e+00 - u_loss: 0.0240 - lr: 0.0010 - time: 0.1629\n",
      "Epoch 23/100\n",
      "16/16 [==============================] - 0s 9ms/step - batch: 7.5000 - size: 62.5000 - loss: 0.0366 - sub_3_loss: 0.0172 - mul_20_loss: 0.0000e+00 - u_loss: 0.0194 - lr: 0.0010 - time: 0.1560\n",
      "Epoch 24/100\n",
      "16/16 [==============================] - 0s 10ms/step - batch: 7.5000 - size: 62.5000 - loss: 0.0290 - sub_3_loss: 0.0138 - mul_20_loss: 0.0000e+00 - u_loss: 0.0152 - lr: 0.0010 - time: 0.1655\n",
      "Epoch 25/100\n",
      "16/16 [==============================] - 0s 9ms/step - batch: 7.5000 - size: 62.5000 - loss: 0.0236 - sub_3_loss: 0.0109 - mul_20_loss: 0.0000e+00 - u_loss: 0.0127 - lr: 0.0010 - time: 0.1559\n",
      "Epoch 26/100\n",
      "16/16 [==============================] - 0s 12ms/step - batch: 7.5000 - size: 62.5000 - loss: 0.0198 - sub_3_loss: 0.0093 - mul_20_loss: 0.0000e+00 - u_loss: 0.0105 - lr: 0.0010 - time: 0.1938\n",
      "Epoch 27/100\n",
      "16/16 [==============================] - 0s 9ms/step - batch: 7.5000 - size: 62.5000 - loss: 0.0173 - sub_3_loss: 0.0079 - mul_20_loss: 0.0000e+00 - u_loss: 0.0094 - lr: 0.0010 - time: 0.1510\n",
      "Epoch 28/100\n",
      "16/16 [==============================] - 0s 9ms/step - batch: 7.5000 - size: 62.5000 - loss: 0.0154 - sub_3_loss: 0.0070 - mul_20_loss: 0.0000e+00 - u_loss: 0.0084 - lr: 0.0010 - time: 0.1577\n",
      "Epoch 29/100\n",
      "16/16 [==============================] - 0s 9ms/step - batch: 7.5000 - size: 62.5000 - loss: 0.0139 - sub_3_loss: 0.0062 - mul_20_loss: 0.0000e+00 - u_loss: 0.0077 - lr: 0.0010 - time: 0.1531\n",
      "Epoch 30/100\n",
      "16/16 [==============================] - 0s 9ms/step - batch: 7.5000 - size: 62.5000 - loss: 0.0128 - sub_3_loss: 0.0057 - mul_20_loss: 0.0000e+00 - u_loss: 0.0071 - lr: 0.0010 - time: 0.1622\n",
      "Epoch 31/100\n",
      "16/16 [==============================] - 0s 10ms/step - batch: 7.5000 - size: 62.5000 - loss: 0.0121 - sub_3_loss: 0.0054 - mul_20_loss: 0.0000e+00 - u_loss: 0.0067 - lr: 0.0010 - time: 0.1589\n",
      "Epoch 32/100\n",
      "16/16 [==============================] - 0s 9ms/step - batch: 7.5000 - size: 62.5000 - loss: 0.0113 - sub_3_loss: 0.0050 - mul_20_loss: 0.0000e+00 - u_loss: 0.0063 - lr: 0.0010 - time: 0.1604\n",
      "Epoch 33/100\n",
      "16/16 [==============================] - 0s 9ms/step - batch: 7.5000 - size: 62.5000 - loss: 0.0107 - sub_3_loss: 0.0046 - mul_20_loss: 0.0000e+00 - u_loss: 0.0061 - lr: 0.0010 - time: 0.1466\n",
      "Epoch 34/100\n",
      "16/16 [==============================] - 0s 9ms/step - batch: 7.5000 - size: 62.5000 - loss: 0.0102 - sub_3_loss: 0.0045 - mul_20_loss: 0.0000e+00 - u_loss: 0.0057 - lr: 0.0010 - time: 0.1530\n",
      "Epoch 35/100\n",
      "16/16 [==============================] - 0s 9ms/step - batch: 7.5000 - size: 62.5000 - loss: 0.0097 - sub_3_loss: 0.0041 - mul_20_loss: 0.0000e+00 - u_loss: 0.0056 - lr: 0.0010 - time: 0.1590\n",
      "Epoch 36/100\n",
      "16/16 [==============================] - 0s 9ms/step - batch: 7.5000 - size: 62.5000 - loss: 0.0093 - sub_3_loss: 0.0039 - mul_20_loss: 0.0000e+00 - u_loss: 0.0055 - lr: 0.0010 - time: 0.1511\n",
      "Epoch 37/100\n",
      "16/16 [==============================] - 0s 9ms/step - batch: 7.5000 - size: 62.5000 - loss: 0.0091 - sub_3_loss: 0.0037 - mul_20_loss: 0.0000e+00 - u_loss: 0.0054 - lr: 0.0010 - time: 0.1556\n",
      "Epoch 38/100\n",
      "16/16 [==============================] - ETA: 0s - batch: 6.5000 - size: 62.2857 - loss: 0.0088 - sub_3_loss: 0.0036 - mul_20_loss: 0.0000e+00 - u_loss: 0.0052   - 0s 9ms/step - batch: 7.5000 - size: 62.5000 - loss: 0.0087 - sub_3_loss: 0.0035 - mul_20_loss: 0.0000e+00 - u_loss: 0.0052 - lr: 0.0010 - time: 0.1534\n",
      "Epoch 39/100\n",
      "16/16 [==============================] - 0s 9ms/step - batch: 7.5000 - size: 62.5000 - loss: 0.0085 - sub_3_loss: 0.0034 - mul_20_loss: 0.0000e+00 - u_loss: 0.0051 - lr: 0.0010 - time: 0.1479\n",
      "Epoch 40/100\n",
      "16/16 [==============================] - 0s 10ms/step - batch: 7.5000 - size: 62.5000 - loss: 0.0083 - sub_3_loss: 0.0032 - mul_20_loss: 0.0000e+00 - u_loss: 0.0051 - lr: 0.0010 - time: 0.1585\n",
      "Epoch 41/100\n",
      "16/16 [==============================] - 0s 9ms/step - batch: 7.5000 - size: 62.5000 - loss: 0.0082 - sub_3_loss: 0.0032 - mul_20_loss: 0.0000e+00 - u_loss: 0.0050 - lr: 0.0010 - time: 0.1443\n",
      "Epoch 42/100\n",
      "16/16 [==============================] - 0s 9ms/step - batch: 7.5000 - size: 62.5000 - loss: 0.0080 - sub_3_loss: 0.0030 - mul_20_loss: 0.0000e+00 - u_loss: 0.0050 - lr: 0.0010 - time: 0.1563\n",
      "Epoch 43/100\n",
      "16/16 [==============================] - 0s 9ms/step - batch: 7.5000 - size: 62.5000 - loss: 0.0077 - sub_3_loss: 0.0028 - mul_20_loss: 0.0000e+00 - u_loss: 0.0049 - lr: 0.0010 - time: 0.1455\n",
      "Epoch 44/100\n",
      "16/16 [==============================] - 0s 9ms/step - batch: 7.5000 - size: 62.5000 - loss: 0.0076 - sub_3_loss: 0.0028 - mul_20_loss: 0.0000e+00 - u_loss: 0.0048 - lr: 0.0010 - time: 0.1528\n",
      "Epoch 45/100\n",
      "16/16 [==============================] - 0s 9ms/step - batch: 7.5000 - size: 62.5000 - loss: 0.0075 - sub_3_loss: 0.0027 - mul_20_loss: 0.0000e+00 - u_loss: 0.0049 - lr: 0.0010 - time: 0.1619\n",
      "Epoch 46/100\n",
      "16/16 [==============================] - 0s 10ms/step - batch: 7.5000 - size: 62.5000 - loss: 0.0073 - sub_3_loss: 0.0025 - mul_20_loss: 0.0000e+00 - u_loss: 0.0047 - lr: 0.0010 - time: 0.1648\n",
      "Epoch 47/100\n",
      "16/16 [==============================] - 0s 9ms/step - batch: 7.5000 - size: 62.5000 - loss: 0.0071 - sub_3_loss: 0.0024 - mul_20_loss: 0.0000e+00 - u_loss: 0.0047 - lr: 0.0010 - time: 0.1598\n",
      "Epoch 48/100\n",
      "16/16 [==============================] - 0s 10ms/step - batch: 7.5000 - size: 62.5000 - loss: 0.0070 - sub_3_loss: 0.0023 - mul_20_loss: 0.0000e+00 - u_loss: 0.0047 - lr: 0.0010 - time: 0.1645\n",
      "Epoch 49/100\n",
      "16/16 [==============================] - 0s 9ms/step - batch: 7.5000 - size: 62.5000 - loss: 0.0068 - sub_3_loss: 0.0022 - mul_20_loss: 0.0000e+00 - u_loss: 0.0047 - lr: 0.0010 - time: 0.1490\n",
      "Epoch 50/100\n",
      "16/16 [==============================] - 0s 9ms/step - batch: 7.5000 - size: 62.5000 - loss: 0.0067 - sub_3_loss: 0.0021 - mul_20_loss: 0.0000e+00 - u_loss: 0.0046 - lr: 0.0010 - time: 0.1537\n",
      "Epoch 51/100\n",
      "16/16 [==============================] - 0s 9ms/step - batch: 7.5000 - size: 62.5000 - loss: 0.0067 - sub_3_loss: 0.0021 - mul_20_loss: 0.0000e+00 - u_loss: 0.0046 - lr: 0.0010 - time: 0.1530\n",
      "Epoch 52/100\n",
      "16/16 [==============================] - 0s 10ms/step - batch: 7.5000 - size: 62.5000 - loss: 0.0067 - sub_3_loss: 0.0020 - mul_20_loss: 0.0000e+00 - u_loss: 0.0048 - lr: 0.0010 - time: 0.1567\n",
      "Epoch 53/100\n",
      "16/16 [==============================] - 0s 9ms/step - batch: 7.5000 - size: 62.5000 - loss: 0.0064 - sub_3_loss: 0.0018 - mul_20_loss: 0.0000e+00 - u_loss: 0.0046 - lr: 0.0010 - time: 0.1562size: 62.1538 - loss: 0.0063 - sub_3_loss: 0.0018 - mul_20_loss: 0.0000e+00 - u_loss: 0.004\n",
      "Epoch 54/100\n",
      "16/16 [==============================] - 0s 9ms/step - batch: 7.5000 - size: 62.5000 - loss: 0.0064 - sub_3_loss: 0.0019 - mul_20_loss: 0.0000e+00 - u_loss: 0.0046 - lr: 0.0010 - time: 0.1596\n",
      "Epoch 55/100\n",
      "16/16 [==============================] - 0s 9ms/step - batch: 7.5000 - size: 62.5000 - loss: 0.0063 - sub_3_loss: 0.0018 - mul_20_loss: 0.0000e+00 - u_loss: 0.0046 - lr: 0.0010 - time: 0.1593\n",
      "Epoch 56/100\n",
      "16/16 [==============================] - 0s 9ms/step - batch: 7.5000 - size: 62.5000 - loss: 0.0062 - sub_3_loss: 0.0016 - mul_20_loss: 0.0000e+00 - u_loss: 0.0045 - lr: 0.0010 - time: 0.1584\n",
      "Epoch 57/100\n",
      "16/16 [==============================] - 0s 9ms/step - batch: 7.5000 - size: 62.5000 - loss: 0.0061 - sub_3_loss: 0.0015 - mul_20_loss: 0.0000e+00 - u_loss: 0.0045 - lr: 0.0010 - time: 0.1529\n",
      "Epoch 58/100\n",
      "16/16 [==============================] - 0s 9ms/step - batch: 7.5000 - size: 62.5000 - loss: 0.0060 - sub_3_loss: 0.0015 - mul_20_loss: 0.0000e+00 - u_loss: 0.0045 - lr: 0.0010 - time: 0.1555\n",
      "Epoch 59/100\n",
      "16/16 [==============================] - 0s 8ms/step - batch: 7.5000 - size: 62.5000 - loss: 0.0059 - sub_3_loss: 0.0014 - mul_20_loss: 0.0000e+00 - u_loss: 0.0045 - lr: 0.0010 - time: 0.1473\n",
      "Epoch 60/100\n",
      "16/16 [==============================] - 0s 10ms/step - batch: 7.5000 - size: 62.5000 - loss: 0.0058 - sub_3_loss: 0.0013 - mul_20_loss: 0.0000e+00 - u_loss: 0.0045 - lr: 0.0010 - time: 0.1634\n",
      "Epoch 61/100\n",
      "16/16 [==============================] - 0s 9ms/step - batch: 7.5000 - size: 62.5000 - loss: 0.0058 - sub_3_loss: 0.0014 - mul_20_loss: 0.0000e+00 - u_loss: 0.0044 - lr: 0.0010 - time: 0.1472\n",
      "Epoch 62/100\n",
      "16/16 [==============================] - 0s 9ms/step - batch: 7.5000 - size: 62.5000 - loss: 0.0058 - sub_3_loss: 0.0013 - mul_20_loss: 0.0000e+00 - u_loss: 0.0045 - lr: 0.0010 - time: 0.1582\n",
      "Epoch 63/100\n",
      "16/16 [==============================] - 0s 9ms/step - batch: 7.5000 - size: 62.5000 - loss: 0.0056 - sub_3_loss: 0.0012 - mul_20_loss: 0.0000e+00 - u_loss: 0.0044 - lr: 0.0010 - time: 0.1543\n",
      "Epoch 64/100\n",
      "16/16 [==============================] - 0s 9ms/step - batch: 7.5000 - size: 62.5000 - loss: 0.0058 - sub_3_loss: 0.0013 - mul_20_loss: 0.0000e+00 - u_loss: 0.0045 - lr: 0.0010 - time: 0.1562\n",
      "Epoch 65/100\n",
      "16/16 [==============================] - 0s 9ms/step - batch: 7.5000 - size: 62.5000 - loss: 0.0058 - sub_3_loss: 0.0013 - mul_20_loss: 0.0000e+00 - u_loss: 0.0045 - lr: 0.0010 - time: 0.1498\n",
      "Epoch 66/100\n",
      "16/16 [==============================] - 0s 10ms/step - batch: 7.5000 - size: 62.5000 - loss: 0.0055 - sub_3_loss: 0.0011 - mul_20_loss: 0.0000e+00 - u_loss: 0.0044 - lr: 0.0010 - time: 0.1639\n",
      "Epoch 67/100\n",
      "16/16 [==============================] - 0s 9ms/step - batch: 7.5000 - size: 62.5000 - loss: 0.0055 - sub_3_loss: 0.0011 - mul_20_loss: 0.0000e+00 - u_loss: 0.0044 - lr: 0.0010 - time: 0.1512\n",
      "Epoch 68/100\n",
      "16/16 [==============================] - 0s 9ms/step - batch: 7.5000 - size: 62.5000 - loss: 0.0054 - sub_3_loss: 0.0010 - mul_20_loss: 0.0000e+00 - u_loss: 0.0044 - lr: 0.0010 - time: 0.1566\n",
      "Epoch 69/100\n",
      "16/16 [==============================] - 0s 10ms/step - batch: 7.5000 - size: 62.5000 - loss: 0.0054 - sub_3_loss: 9.9780e-04 - mul_20_loss: 0.0000e+00 - u_loss: 0.0044 - lr: 0.0010 - time: 0.1734\n",
      "Epoch 70/100\n",
      "16/16 [==============================] - 0s 10ms/step - batch: 7.5000 - size: 62.5000 - loss: 0.0054 - sub_3_loss: 9.8405e-04 - mul_20_loss: 0.0000e+00 - u_loss: 0.0044 - lr: 0.0010 - time: 0.1654\n",
      "Epoch 71/100\n",
      "16/16 [==============================] - 0s 10ms/step - batch: 7.5000 - size: 62.5000 - loss: 0.0054 - sub_3_loss: 9.5745e-04 - mul_20_loss: 0.0000e+00 - u_loss: 0.0044 - lr: 0.0010 - time: 0.1608\n",
      "Epoch 72/100\n",
      "16/16 [==============================] - 0s 9ms/step - batch: 7.5000 - size: 62.5000 - loss: 0.0054 - sub_3_loss: 0.0010 - mul_20_loss: 0.0000e+00 - u_loss: 0.0044 - lr: 0.0010 - time: 0.1512\n",
      "Epoch 73/100\n",
      "16/16 [==============================] - 0s 9ms/step - batch: 7.5000 - size: 62.5000 - loss: 0.0054 - sub_3_loss: 0.0010 - mul_20_loss: 0.0000e+00 - u_loss: 0.0044 - lr: 0.0010 - time: 0.1683\n",
      "Epoch 74/100\n",
      "16/16 [==============================] - 0s 9ms/step - batch: 7.5000 - size: 62.5000 - loss: 0.0053 - sub_3_loss: 8.9295e-04 - mul_20_loss: 0.0000e+00 - u_loss: 0.0044 - lr: 0.0010 - time: 0.1492\n",
      "Epoch 75/100\n",
      "16/16 [==============================] - 0s 9ms/step - batch: 7.5000 - size: 62.5000 - loss: 0.0052 - sub_3_loss: 8.5599e-04 - mul_20_loss: 0.0000e+00 - u_loss: 0.0043 - lr: 0.0010 - time: 0.1638\n",
      "Epoch 76/100\n",
      "16/16 [==============================] - 0s 9ms/step - batch: 7.5000 - size: 62.5000 - loss: 0.0052 - sub_3_loss: 8.4232e-04 - mul_20_loss: 0.0000e+00 - u_loss: 0.0043 - lr: 0.0010 - time: 0.1516\n",
      "Epoch 77/100\n",
      "16/16 [==============================] - 0s 10ms/step - batch: 7.5000 - size: 62.5000 - loss: 0.0051 - sub_3_loss: 7.8201e-04 - mul_20_loss: 0.0000e+00 - u_loss: 0.0043 - lr: 0.0010 - time: 0.1576\n",
      "Epoch 78/100\n",
      "16/16 [==============================] - 0s 9ms/step - batch: 7.5000 - size: 62.5000 - loss: 0.0051 - sub_3_loss: 8.2561e-04 - mul_20_loss: 0.0000e+00 - u_loss: 0.0043 - lr: 0.0010 - time: 0.1579\n",
      "Epoch 79/100\n",
      "16/16 [==============================] - 0s 9ms/step - batch: 7.5000 - size: 62.5000 - loss: 0.0050 - sub_3_loss: 7.5723e-04 - mul_20_loss: 0.0000e+00 - u_loss: 0.0043 - lr: 0.0010 - time: 0.1529\n",
      "Epoch 80/100\n",
      "16/16 [==============================] - 0s 9ms/step - batch: 7.5000 - size: 62.5000 - loss: 0.0051 - sub_3_loss: 7.6489e-04 - mul_20_loss: 0.0000e+00 - u_loss: 0.0043 - lr: 0.0010 - time: 0.1469\n",
      "Epoch 81/100\n",
      "16/16 [==============================] - 0s 9ms/step - batch: 7.5000 - size: 62.5000 - loss: 0.0051 - sub_3_loss: 7.4263e-04 - mul_20_loss: 0.0000e+00 - u_loss: 0.0043 - lr: 0.0010 - time: 0.1604\n",
      "Epoch 82/100\n",
      "16/16 [==============================] - 0s 9ms/step - batch: 7.5000 - size: 62.5000 - loss: 0.0050 - sub_3_loss: 7.0683e-04 - mul_20_loss: 0.0000e+00 - u_loss: 0.0043 - lr: 0.0010 - time: 0.1468\n",
      "Epoch 83/100\n",
      "16/16 [==============================] - 0s 9ms/step - batch: 7.5000 - size: 62.5000 - loss: 0.0050 - sub_3_loss: 7.0756e-04 - mul_20_loss: 0.0000e+00 - u_loss: 0.0043 - lr: 0.0010 - time: 0.1578\n",
      "Epoch 84/100\n",
      "16/16 [==============================] - 0s 9ms/step - batch: 7.5000 - size: 62.5000 - loss: 0.0050 - sub_3_loss: 7.0394e-04 - mul_20_loss: 0.0000e+00 - u_loss: 0.0043 - lr: 0.0010 - time: 0.1469\n",
      "Epoch 85/100\n",
      "16/16 [==============================] - 0s 10ms/step - batch: 7.5000 - size: 62.5000 - loss: 0.0051 - sub_3_loss: 8.3522e-04 - mul_20_loss: 0.0000e+00 - u_loss: 0.0043 - lr: 0.0010 - time: 0.1604\n",
      "Epoch 86/100\n",
      "16/16 [==============================] - 0s 10ms/step - batch: 7.5000 - size: 62.5000 - loss: 0.0049 - sub_3_loss: 7.2900e-04 - mul_20_loss: 0.0000e+00 - u_loss: 0.0042 - lr: 0.0010 - time: 0.1590\n",
      "Epoch 87/100\n",
      "16/16 [==============================] - 0s 11ms/step - batch: 7.5000 - size: 62.5000 - loss: 0.0049 - sub_3_loss: 6.3274e-04 - mul_20_loss: 0.0000e+00 - u_loss: 0.0042 - lr: 0.0010 - time: 0.3048\n",
      "Epoch 88/100\n",
      "16/16 [==============================] - 0s 13ms/step - batch: 7.5000 - size: 62.5000 - loss: 0.0049 - sub_3_loss: 6.5721e-04 - mul_20_loss: 0.0000e+00 - u_loss: 0.0042 - lr: 0.0010 - time: 0.3698\n",
      "Epoch 89/100\n",
      "16/16 [==============================] - 0s 12ms/step - batch: 7.5000 - size: 62.5000 - loss: 0.0049 - sub_3_loss: 6.7267e-04 - mul_20_loss: 0.0000e+00 - u_loss: 0.0043 - lr: 0.0010 - time: 0.3519\n",
      "Epoch 90/100\n",
      "16/16 [==============================] - 0s 9ms/step - batch: 7.5000 - size: 62.5000 - loss: 0.0049 - sub_3_loss: 6.5934e-04 - mul_20_loss: 0.0000e+00 - u_loss: 0.0043 - lr: 0.0010 - time: 0.2258\n",
      "Epoch 91/100\n",
      "16/16 [==============================] - 0s 10ms/step - batch: 7.5000 - size: 62.5000 - loss: 0.0048 - sub_3_loss: 6.3211e-04 - mul_20_loss: 0.0000e+00 - u_loss: 0.0042 - lr: 0.0010 - time: 0.1621\n",
      "Epoch 92/100\n",
      "16/16 [==============================] - 0s 8ms/step - batch: 7.5000 - size: 62.5000 - loss: 0.0048 - sub_3_loss: 6.2905e-04 - mul_20_loss: 0.0000e+00 - u_loss: 0.0042 - lr: 0.0010 - time: 0.1391\n",
      "Epoch 93/100\n",
      "16/16 [==============================] - 0s 9ms/step - batch: 7.5000 - size: 62.5000 - loss: 0.0049 - sub_3_loss: 6.5400e-04 - mul_20_loss: 0.0000e+00 - u_loss: 0.0042 - lr: 0.0010 - time: 0.1815\n",
      "Epoch 94/100\n",
      "16/16 [==============================] - 0s 9ms/step - batch: 7.5000 - size: 62.5000 - loss: 0.0048 - sub_3_loss: 6.3117e-04 - mul_20_loss: 0.0000e+00 - u_loss: 0.0042 - lr: 0.0010 - time: 0.1568\n",
      "Epoch 95/100\n",
      "16/16 [==============================] - 0s 8ms/step - batch: 7.5000 - size: 62.5000 - loss: 0.0048 - sub_3_loss: 6.1067e-04 - mul_20_loss: 0.0000e+00 - u_loss: 0.0042 - lr: 0.0010 - time: 0.1378\n",
      "Epoch 96/100\n",
      "16/16 [==============================] - 0s 8ms/step - batch: 7.5000 - size: 62.5000 - loss: 0.0048 - sub_3_loss: 6.3869e-04 - mul_20_loss: 0.0000e+00 - u_loss: 0.0042 - lr: 0.0010 - time: 0.1681\n",
      "Epoch 97/100\n",
      "16/16 [==============================] - 0s 10ms/step - batch: 7.5000 - size: 62.5000 - loss: 0.0048 - sub_3_loss: 5.7291e-04 - mul_20_loss: 0.0000e+00 - u_loss: 0.0042 - lr: 0.0010 - time: 0.1737\n",
      "Epoch 98/100\n",
      "16/16 [==============================] - 0s 8ms/step - batch: 7.5000 - size: 62.5000 - loss: 0.0047 - sub_3_loss: 5.6540e-04 - mul_20_loss: 0.0000e+00 - u_loss: 0.0042 - lr: 0.0010 - time: 0.1333\n",
      "Epoch 99/100\n",
      "16/16 [==============================] - 0s 8ms/step - batch: 7.5000 - size: 62.5000 - loss: 0.0048 - sub_3_loss: 6.0210e-04 - mul_20_loss: 0.0000e+00 - u_loss: 0.0042 - lr: 0.0010 - time: 0.1423\n",
      "Epoch 100/100\n",
      "16/16 [==============================] - 0s 11ms/step - batch: 7.5000 - size: 62.5000 - loss: 0.0047 - sub_3_loss: 5.3641e-04 - mul_20_loss: 0.0000e+00 - u_loss: 0.0041 - lr: 0.0010 - time: 0.3115\n"
     ]
    }
   ],
   "source": [
    "training_history = model.train([x_train], ['zeros', 'zeros', 'zeros'], learning_rate=0.001, epochs=100)"
   ]
  },
  {
   "cell_type": "code",
   "execution_count": 161,
   "metadata": {},
   "outputs": [
    {
     "data": {
      "image/png": "[encoded data removed]",
      "text/plain": [
       "<Figure size 432x288 with 1 Axes>"
      ]
     },
     "metadata": {
      "needs_background": "light"
     },
     "output_type": "display_data"
    }
   ],
   "source": [
    "plt.semilogy(training_history.history['loss'])\n",
    "plt.xlabel('epochs')\n",
    "plt.ylabel('loss')\n",
    "plt.show()"
   ]
  },
  {
   "cell_type": "code",
   "execution_count": 173,
   "metadata": {},
   "outputs": [
    {
     "data": {
      "text/plain": [
       "array([-0.14878428, -0.07993507, -0.02225295,  0.0231696 ,  0.05507034,\n",
       "        0.07209216,  0.07281953,  0.05560298,  0.0183721 , -0.04132509,\n",
       "       -0.12582232])"
      ]
     },
     "execution_count": 173,
     "metadata": {},
     "output_type": "execute_result"
    }
   ],
   "source": [
    "# evaluate the test data\n",
    "u_eval = u.eval(model, [x_test])\n",
    "u_eval"
   ]
  },
  {
   "cell_type": "code",
   "execution_count": 163,
   "metadata": {},
   "outputs": [
    {
     "name": "stdout",
     "output_type": "stream",
     "text": [
      "(17,)\n",
      "226\n"
     ]
    },
    {
     "name": "stderr",
     "output_type": "stream",
     "text": [
      "C:\\Users\\YOUSSE~1\\AppData\\Local\\Temp/ipykernel_3628/1516686478.py:2: VisibleDeprecationWarning: Creating an ndarray from ragged nested sequences (which is a list-or-tuple of lists-or-tuples-or ndarrays with different lengths or shapes) is deprecated. If you meant to do this, you must specify 'dtype=object' when creating the ndarray\n",
      "  print(np.array(u.get_weights()).shape)\n"
     ]
    }
   ],
   "source": [
    "# the weights and biases of model\n",
    "print(np.array(u.get_weights()).shape)\n",
    "# the number of parameters\n",
    "print(u.count_params())"
   ]
  },
  {
   "cell_type": "code",
   "execution_count": 175,
   "metadata": {},
   "outputs": [
    {
     "data": {
      "text/plain": [
       "[<matplotlib.lines.Line2D at 0x1d272be5a60>]"
      ]
     },
     "execution_count": 175,
     "metadata": {},
     "output_type": "execute_result"
    },
    {
     "data": {
      "image/png": "[encoded data removed]",
      "text/plain": [
       "<Figure size 432x288 with 1 Axes>"
      ]
     },
     "metadata": {
      "needs_background": "light"
     },
     "output_type": "display_data"
    }
   ],
   "source": [
    "plt.plot(x_test, u_eval)"
   ]
  },
  {
   "cell_type": "code",
   "execution_count": 176,
   "metadata": {},
   "outputs": [
    {
     "data": {
      "text/plain": [
       "[array([-0.02830589,  0.01433433,  0.00223997,  0.00174306, -0.00412582,\n",
       "        -0.02121806, -0.03148689, -0.0160082 ,  0.02129323,  0.03032438,\n",
       "        -0.10804154]),\n",
       " array([-0., -0., -0.,  0.,  0.,  0.,  0.,  0.,  0., -0., -0.]),\n",
       " array([-0.14878428, -0.07993507, -0.02225295,  0.0231696 ,  0.05507034,\n",
       "         0.07209216,  0.07281953,  0.05560298,  0.0183721 , -0.04132509,\n",
       "        -0.12582232])]"
      ]
     },
     "execution_count": 176,
     "metadata": {},
     "output_type": "execute_result"
    }
   ],
   "source": [
    "u_pred = model.predict(x_test)\n",
    "u_pred"
   ]
  },
  {
   "cell_type": "code",
   "execution_count": 179,
   "metadata": {},
   "outputs": [
    {
     "data": {
      "text/plain": [
       "[<matplotlib.lines.Line2D at 0x1d272d132b0>]"
      ]
     },
     "execution_count": 179,
     "metadata": {},
     "output_type": "execute_result"
    },
    {
     "data": {
      "image/png": "[encoded data removed]",
      "text/plain": [
       "<Figure size 432x288 with 1 Axes>"
      ]
     },
     "metadata": {
      "needs_background": "light"
     },
     "output_type": "display_data"
    }
   ],
   "source": [
    "plt.plot(x_test, u_pred[0])"
   ]
  },
  {
   "cell_type": "code",
   "execution_count": 167,
   "metadata": {},
   "outputs": [
    {
     "name": "stdout",
     "output_type": "stream",
     "text": [
      "[array([[-0.02830589]]), array([[-0.]]), array([[-0.14878428]])]\n",
      "[[-0.14878428]]\n"
     ]
    }
   ],
   "source": [
    "# example prediction \n",
    "x = np.array([[0]])\n",
    "print(model.predict([x]))\n",
    "print(u.eval(model, [x]))"
   ]
  },
  {
   "cell_type": "code",
   "execution_count": null,
   "metadata": {},
   "outputs": [],
   "source": []
  }
 ],
 "metadata": {
  "interpreter": {
   "hash": "f58cf6e73e4f029bbe056118fa6dee644f4f9335ebfaaf3e96b0425ab66bc2da"
  },
  "kernelspec": {
   "display_name": "Python 3.9.7 ('base')",
   "language": "python",
   "name": "python3"
  },
  "language_info": {
   "codemirror_mode": {
    "name": "ipython",
    "version": 3
   },
   "file_extension": ".py",
   "mimetype": "text/x-python",
   "name": "python",
   "nbconvert_exporter": "python",
   "pygments_lexer": "ipython3",
   "version": "3.9.7"
  },
  "orig_nbformat": 4
 },
 "nbformat": 4,
 "nbformat_minor": 2
}
