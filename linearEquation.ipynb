{
 "cells": [
  {
   "cell_type": "markdown",
   "metadata": {},
   "source": [
    "# **PFE: Solution of differential equations PDEs**"
   ]
  },
  {
   "cell_type": "markdown",
   "metadata": {},
   "source": [
    "### **PART 1 : Solving partial differential equations using deep learning 'Neural networks' with SciANN library**"
   ]
  },
  {
   "cell_type": "markdown",
   "metadata": {},
   "source": [
    "#### **The forth type of equations is linear elliptic equation**"
   ]
  },
  {
   "cell_type": "markdown",
   "metadata": {},
   "source": [
    "   * **Importing libraries**"
   ]
  },
  {
   "cell_type": "code",
   "execution_count": 109,
   "metadata": {},
   "outputs": [],
   "source": [
    "import numpy as np\n",
    "import matplotlib.pyplot as plt\n",
    "import graphviz\n",
    "import sciann as sn\n",
    "from sciann.utils import sign"
   ]
  },
  {
   "cell_type": "markdown",
   "metadata": {},
   "source": [
    "* **Generate the variables**"
   ]
  },
  {
   "cell_type": "code",
   "execution_count": 110,
   "metadata": {},
   "outputs": [],
   "source": [
    "x = sn.Variable('x', dtype='float64')"
   ]
  },
  {
   "cell_type": "markdown",
   "metadata": {},
   "source": [
    "* **Generate the outputs**"
   ]
  },
  {
   "cell_type": "code",
   "execution_count": 111,
   "metadata": {},
   "outputs": [],
   "source": [
    "u = sn.Functional('u', [x], 8*[16], 'tanh')"
   ]
  },
  {
   "cell_type": "markdown",
   "metadata": {},
   "source": [
    "* **Generate the loss function and boundary conditions** "
   ]
  },
  {
   "cell_type": "code",
   "execution_count": 112,
   "metadata": {},
   "outputs": [],
   "source": [
    "L = -sn.math.diff(u, x, order=2) + sn.exp(x)"
   ]
  },
  {
   "cell_type": "code",
   "execution_count": null,
   "metadata": {},
   "outputs": [],
   "source": [
    "C1 = (1-sign(x + 1)*u) -1 \n",
    "C2 = (1+sign(0 - x))*u + (np.exp(1)-2)\n",
    "C3 = u*0.0"
   ]
  },
  {
   "cell_type": "markdown",
   "metadata": {},
   "source": [
    "* **Generate the model**"
   ]
  },
  {
   "cell_type": "code",
   "execution_count": 113,
   "metadata": {},
   "outputs": [
    {
     "name": "stdout",
     "output_type": "stream",
     "text": [
      "Model: \"model_12\"\n",
      "__________________________________________________________________________________________________\n",
      "Layer (type)                    Output Shape         Param #     Connected to                     \n",
      "==================================================================================================\n",
      "x (InputLayer)                  [(None, 1)]          0                                            \n",
      "__________________________________________________________________________________________________\n",
      "D16b_13 (Dense)                 (None, 16)           32          x[0][0]                          \n",
      "__________________________________________________________________________________________________\n",
      "sci_activation_50 (SciActivatio (None, 16)           0           D16b_13[0][0]                    \n",
      "__________________________________________________________________________________________________\n",
      "D16b_14 (Dense)                 (None, 16)           272         sci_activation_50[0][0]          \n",
      "__________________________________________________________________________________________________\n",
      "sci_activation_51 (SciActivatio (None, 16)           0           D16b_14[0][0]                    \n",
      "__________________________________________________________________________________________________\n",
      "D16b_15 (Dense)                 (None, 16)           272         sci_activation_51[0][0]          \n",
      "__________________________________________________________________________________________________\n",
      "sci_activation_52 (SciActivatio (None, 16)           0           D16b_15[0][0]                    \n",
      "__________________________________________________________________________________________________\n",
      "D16b_16 (Dense)                 (None, 16)           272         sci_activation_52[0][0]          \n",
      "__________________________________________________________________________________________________\n",
      "sci_activation_53 (SciActivatio (None, 16)           0           D16b_16[0][0]                    \n",
      "__________________________________________________________________________________________________\n",
      "D16b_17 (Dense)                 (None, 16)           272         sci_activation_53[0][0]          \n",
      "__________________________________________________________________________________________________\n",
      "sci_activation_54 (SciActivatio (None, 16)           0           D16b_17[0][0]                    \n",
      "__________________________________________________________________________________________________\n",
      "D16b_18 (Dense)                 (None, 16)           272         sci_activation_54[0][0]          \n",
      "__________________________________________________________________________________________________\n",
      "sci_activation_55 (SciActivatio (None, 16)           0           D16b_18[0][0]                    \n",
      "__________________________________________________________________________________________________\n",
      "D16b_19 (Dense)                 (None, 16)           272         sci_activation_55[0][0]          \n",
      "__________________________________________________________________________________________________\n",
      "sci_activation_56 (SciActivatio (None, 16)           0           D16b_19[0][0]                    \n",
      "__________________________________________________________________________________________________\n",
      "D16b_20 (Dense)                 (None, 16)           272         sci_activation_56[0][0]          \n",
      "__________________________________________________________________________________________________\n",
      "sci_activation_57 (SciActivatio (None, 16)           0           D16b_20[0][0]                    \n",
      "__________________________________________________________________________________________________\n",
      "add_44 (Lambda)                 (None, 1)            0           x[0][0]                          \n",
      "__________________________________________________________________________________________________\n",
      "rsub_24 (Lambda)                (None, 1)            0           x[0][0]                          \n",
      "__________________________________________________________________________________________________\n",
      "u (Field)                       (None, 1)            17          sci_activation_57[0][0]          \n",
      "__________________________________________________________________________________________________\n",
      "sign_23 (Lambda)                (None, 1)            0           add_44[0][0]                     \n",
      "__________________________________________________________________________________________________\n",
      "sign_24 (Lambda)                (None, 1)            0           rsub_24[0][0]                    \n",
      "__________________________________________________________________________________________________\n",
      "Grad2_u_6_x/ (Lambda)           (None, 1)            0           u[0][0]                          \n",
      "__________________________________________________________________________________________________\n",
      "mul_35 (Lambda)                 (None, 1)            0           sign_23[0][0]                    \n",
      "                                                                 u[0][0]                          \n",
      "__________________________________________________________________________________________________\n",
      "add_45 (Lambda)                 (None, 1)            0           sign_24[0][0]                    \n",
      "__________________________________________________________________________________________________\n",
      "mul_34 (Lambda)                 (None, 1)            0           Grad2_u_6_x/[0][0]               \n",
      "__________________________________________________________________________________________________\n",
      "exp_12 (Lambda)                 (None, 1)            0           x[0][0]                          \n",
      "__________________________________________________________________________________________________\n",
      "rsub_23 (Lambda)                (None, 1)            0           mul_35[0][0]                     \n",
      "__________________________________________________________________________________________________\n",
      "mul_36 (Lambda)                 (None, 1)            0           add_45[0][0]                     \n",
      "                                                                 u[0][0]                          \n",
      "__________________________________________________________________________________________________\n",
      "add_43 (Lambda)                 (None, 1)            0           mul_34[0][0]                     \n",
      "                                                                 exp_12[0][0]                     \n",
      "__________________________________________________________________________________________________\n",
      "sub_19 (Lambda)                 (None, 1)            0           rsub_23[0][0]                    \n",
      "__________________________________________________________________________________________________\n",
      "add_46 (Lambda)                 (None, 1)            0           mul_36[0][0]                     \n",
      "__________________________________________________________________________________________________\n",
      "mul_37 (Lambda)                 (None, 1)            0           u[0][0]                          \n",
      "==================================================================================================\n",
      "Total params: 1,953\n",
      "Trainable params: 1,953\n",
      "Non-trainable params: 0\n",
      "__________________________________________________________________________________________________\n"
     ]
    }
   ],
   "source": [
    "model = sn.SciModel([x], [L, C1, C2, C3], optimizer='adam', loss_func='mse', plot_to_file='LE-MODEL.png')\n",
    "model.summary()"
   ]
  },
  {
   "cell_type": "code",
   "execution_count": 114,
   "metadata": {},
   "outputs": [
    {
     "data": {
      "text/plain": [
       "array([0. , 0.1, 0.2, 0.3, 0.4, 0.5, 0.6, 0.7, 0.8, 0.9, 1. ])"
      ]
     },
     "execution_count": 114,
     "metadata": {},
     "output_type": "execute_result"
    }
   ],
   "source": [
    "x_train = np.linspace(0, 1, 200)\n",
    "x_test = np.linspace(0, 1, 11)\n",
    "x_test"
   ]
  },
  {
   "cell_type": "code",
   "execution_count": 115,
   "metadata": {},
   "outputs": [
    {
     "name": "stdout",
     "output_type": "stream",
     "text": [
      "\n",
      "Total samples: 200 \n",
      "Batch size: 64 \n",
      "Total batches: 4 \n",
      "\n",
      "Epoch 1/100\n",
      "4/4 [==============================] - 5s 83ms/step - batch: 1.5000 - size: 50.0000 - loss: 3.1272 - add_43_loss: 2.4634 - sub_19_loss: 0.1103 - add_46_loss: 0.5157 - mul_37_loss: 0.0000e+00 - lr: 1.0000e-04 - time: 4.7998\n",
      "Epoch 2/100\n",
      "4/4 [==============================] - 0s 7ms/step - batch: 1.5000 - size: 50.0000 - loss: 3.2083 - add_43_loss: 2.6158 - sub_19_loss: 0.0981 - add_46_loss: 0.5157 - mul_37_loss: 0.0000e+00 - lr: 1.0000e-04 - time: 0.0249\n",
      "Epoch 3/100\n",
      "4/4 [==============================] - 0s 7ms/step - batch: 1.5000 - size: 50.0000 - loss: 3.0593 - add_43_loss: 2.4763 - sub_19_loss: 0.0865 - add_46_loss: 0.5157 - mul_37_loss: 0.0000e+00 - lr: 1.0000e-04 - time: 0.0289\n",
      "Epoch 4/100\n",
      "4/4 [==============================] - 0s 6ms/step - batch: 1.5000 - size: 50.0000 - loss: 3.1203 - add_43_loss: 2.5934 - sub_19_loss: 0.0718 - add_46_loss: 0.5158 - mul_37_loss: 0.0000e+00 - lr: 1.0000e-04 - time: 0.0923\n",
      "Epoch 5/100\n",
      "4/4 [==============================] - 0s 7ms/step - batch: 1.5000 - size: 50.0000 - loss: 2.7480 - add_43_loss: 2.1555 - sub_19_loss: 0.0642 - add_46_loss: 0.5158 - mul_37_loss: 0.0000e+00 - lr: 1.0000e-04 - time: 0.1002\n",
      "Epoch 6/100\n",
      "4/4 [==============================] - 0s 6ms/step - batch: 1.5000 - size: 50.0000 - loss: 2.8102 - add_43_loss: 2.2568 - sub_19_loss: 0.0582 - add_46_loss: 0.5159 - mul_37_loss: 0.0000e+00 - lr: 1.0000e-04 - time: 0.0954\n",
      "Epoch 7/100\n",
      "4/4 [==============================] - 0s 7ms/step - batch: 1.5000 - size: 50.0000 - loss: 2.7252 - add_43_loss: 2.1679 - sub_19_loss: 0.0512 - add_46_loss: 0.5159 - mul_37_loss: 0.0000e+00 - lr: 1.0000e-04 - time: 0.1021\n",
      "Epoch 8/100\n",
      "4/4 [==============================] - 0s 6ms/step - batch: 1.5000 - size: 50.0000 - loss: 2.7599 - add_43_loss: 2.2233 - sub_19_loss: 0.0475 - add_46_loss: 0.5160 - mul_37_loss: 0.0000e+00 - lr: 1.0000e-04 - time: 0.0964\n",
      "Epoch 9/100\n",
      "4/4 [==============================] - 0s 6ms/step - batch: 1.5000 - size: 50.0000 - loss: 2.6486 - add_43_loss: 2.0978 - sub_19_loss: 0.0424 - add_46_loss: 0.5167 - mul_37_loss: 0.0000e+00 - lr: 1.0000e-04 - time: 0.0953\n",
      "Epoch 10/100\n",
      "4/4 [==============================] - 0s 7ms/step - batch: 1.5000 - size: 50.0000 - loss: 2.5226 - add_43_loss: 1.9491 - sub_19_loss: 0.0409 - add_46_loss: 0.5161 - mul_37_loss: 0.0000e+00 - lr: 1.0000e-04 - time: 0.0983\n",
      "Epoch 11/100\n",
      "4/4 [==============================] - 0s 7ms/step - batch: 1.5000 - size: 50.0000 - loss: 2.3308 - add_43_loss: 1.7213 - sub_19_loss: 0.0362 - add_46_loss: 0.5161 - mul_37_loss: 0.0000e+00 - lr: 1.0000e-04 - time: 0.0956\n",
      "Epoch 12/100\n",
      "4/4 [==============================] - 0s 8ms/step - batch: 1.5000 - size: 50.0000 - loss: 2.5050 - add_43_loss: 1.9440 - sub_19_loss: 0.0393 - add_46_loss: 0.5162 - mul_37_loss: 0.0000e+00 - lr: 1.0000e-04 - time: 0.0961\n",
      "Epoch 13/100\n",
      "4/4 [==============================] - 0s 7ms/step - batch: 1.5000 - size: 50.0000 - loss: 2.4046 - add_43_loss: 1.8246 - sub_19_loss: 0.0380 - add_46_loss: 0.5180 - mul_37_loss: 0.0000e+00 - lr: 1.0000e-04 - time: 0.0929\n",
      "Epoch 14/100\n",
      "4/4 [==============================] - 0s 7ms/step - batch: 1.5000 - size: 50.0000 - loss: 2.5009 - add_43_loss: 1.9501 - sub_19_loss: 0.0394 - add_46_loss: 0.5162 - mul_37_loss: 0.0000e+00 - lr: 1.0000e-04 - time: 0.1002\n",
      "Epoch 15/100\n",
      "4/4 [==============================] - 0s 7ms/step - batch: 1.5000 - size: 50.0000 - loss: 2.4743 - add_43_loss: 1.9222 - sub_19_loss: 0.0404 - add_46_loss: 0.5163 - mul_37_loss: 0.0000e+00 - lr: 1.0000e-04 - time: 0.0981\n",
      "Epoch 16/100\n",
      "4/4 [==============================] - 0s 6ms/step - batch: 1.5000 - size: 50.0000 - loss: 2.3979 - add_43_loss: 1.8320 - sub_19_loss: 0.0423 - add_46_loss: 0.5163 - mul_37_loss: 0.0000e+00 - lr: 1.0000e-04 - time: 0.0967\n",
      "Epoch 17/100\n",
      "4/4 [==============================] - 0s 7ms/step - batch: 1.5000 - size: 50.0000 - loss: 2.3819 - add_43_loss: 1.8159 - sub_19_loss: 0.0438 - add_46_loss: 0.5164 - mul_37_loss: 0.0000e+00 - lr: 1.0000e-04 - time: 0.1000\n",
      "Epoch 18/100\n",
      "4/4 [==============================] - 0s 7ms/step - batch: 1.5000 - size: 50.0000 - loss: 2.3662 - add_43_loss: 1.8032 - sub_19_loss: 0.0428 - add_46_loss: 0.5164 - mul_37_loss: 0.0000e+00 - lr: 1.0000e-04 - time: 0.0969\n",
      "Epoch 19/100\n",
      "4/4 [==============================] - 0s 7ms/step - batch: 1.5000 - size: 50.0000 - loss: 2.2380 - add_43_loss: 1.6492 - sub_19_loss: 0.0426 - add_46_loss: 0.5164 - mul_37_loss: 0.0000e+00 - lr: 1.0000e-04 - time: 0.2353\n",
      "Epoch 20/100\n",
      "4/4 [==============================] - 0s 8ms/step - batch: 1.5000 - size: 50.0000 - loss: 2.1713 - add_43_loss: 1.5753 - sub_19_loss: 0.0397 - add_46_loss: 0.5165 - mul_37_loss: 0.0000e+00 - lr: 1.0000e-04 - time: 0.2164\n",
      "Epoch 21/100\n",
      "4/4 [==============================] - 0s 7ms/step - batch: 1.5000 - size: 50.0000 - loss: 2.3957 - add_43_loss: 1.8553 - sub_19_loss: 0.0457 - add_46_loss: 0.5166 - mul_37_loss: 0.0000e+00 - lr: 1.0000e-04 - time: 0.1596\n",
      "Epoch 22/100\n",
      "4/4 [==============================] - 0s 6ms/step - batch: 1.5000 - size: 50.0000 - loss: 2.3551 - add_43_loss: 1.8084 - sub_19_loss: 0.0421 - add_46_loss: 0.5216 - mul_37_loss: 0.0000e+00 - lr: 1.0000e-04 - time: 0.0979\n",
      "Epoch 23/100\n",
      "4/4 [==============================] - 0s 7ms/step - batch: 1.5000 - size: 50.0000 - loss: 2.4757 - add_43_loss: 1.9661 - sub_19_loss: 0.0457 - add_46_loss: 0.5167 - mul_37_loss: 0.0000e+00 - lr: 1.0000e-04 - time: 0.0967\n",
      "Epoch 24/100\n",
      "4/4 [==============================] - 0s 8ms/step - batch: 1.5000 - size: 50.0000 - loss: 2.2906 - add_43_loss: 1.7417 - sub_19_loss: 0.0446 - add_46_loss: 0.5167 - mul_37_loss: 0.0000e+00 - lr: 1.0000e-04 - time: 0.1601\n",
      "Epoch 25/100\n",
      "4/4 [==============================] - 0s 7ms/step - batch: 1.5000 - size: 50.0000 - loss: 2.2505 - add_43_loss: 1.7002 - sub_19_loss: 0.0414 - add_46_loss: 0.5168 - mul_37_loss: 0.0000e+00 - lr: 1.0000e-04 - time: 0.0977\n",
      "Epoch 26/100\n",
      "4/4 [==============================] - 0s 7ms/step - batch: 1.5000 - size: 50.0000 - loss: 2.0823 - add_43_loss: 1.4983 - sub_19_loss: 0.0394 - add_46_loss: 0.5168 - mul_37_loss: 0.0000e+00 - lr: 1.0000e-04 - time: 0.0995\n",
      "Epoch 27/100\n",
      "4/4 [==============================] - 0s 8ms/step - batch: 1.5000 - size: 50.0000 - loss: 2.2117 - add_43_loss: 1.6608 - sub_19_loss: 0.0441 - add_46_loss: 0.5169 - mul_37_loss: 0.0000e+00 - lr: 1.0000e-04 - time: 0.0960\n",
      "Epoch 28/100\n",
      "4/4 [==============================] - 0s 8ms/step - batch: 1.5000 - size: 50.0000 - loss: 2.2312 - add_43_loss: 1.6922 - sub_19_loss: 0.0423 - add_46_loss: 0.5170 - mul_37_loss: 0.0000e+00 - lr: 1.0000e-04 - time: 0.1005\n",
      "Epoch 29/100\n",
      "4/4 [==============================] - 0s 8ms/step - batch: 1.5000 - size: 50.0000 - loss: 1.9819 - add_43_loss: 1.3879 - sub_19_loss: 0.0396 - add_46_loss: 0.5170 - mul_37_loss: 0.0000e+00 - lr: 1.0000e-04 - time: 0.0956\n",
      "Epoch 30/100\n",
      "4/4 [==============================] - 0s 6ms/step - batch: 1.5000 - size: 50.0000 - loss: 1.9741 - add_43_loss: 1.3834 - sub_19_loss: 0.0395 - add_46_loss: 0.5171 - mul_37_loss: 0.0000e+00 - lr: 1.0000e-04 - time: 0.0972\n",
      "Epoch 31/100\n",
      "4/4 [==============================] - 0s 7ms/step - batch: 1.5000 - size: 50.0000 - loss: 2.0635 - add_43_loss: 1.4972 - sub_19_loss: 0.0429 - add_46_loss: 0.5171 - mul_37_loss: 0.0000e+00 - lr: 1.0000e-04 - time: 0.0993\n",
      "Epoch 32/100\n",
      "4/4 [==============================] - 0s 8ms/step - batch: 1.5000 - size: 50.0000 - loss: 1.9322 - add_43_loss: 1.3451 - sub_19_loss: 0.0355 - add_46_loss: 0.5171 - mul_37_loss: 0.0000e+00 - lr: 1.0000e-04 - time: 0.1050\n",
      "Epoch 33/100\n",
      "4/4 [==============================] - 0s 8ms/step - batch: 1.5000 - size: 50.0000 - loss: 1.9071 - add_43_loss: 1.3158 - sub_19_loss: 0.0382 - add_46_loss: 0.5172 - mul_37_loss: 0.0000e+00 - lr: 1.0000e-04 - time: 0.0955\n",
      "Epoch 34/100\n",
      "4/4 [==============================] - 0s 8ms/step - batch: 1.5000 - size: 50.0000 - loss: 1.9266 - add_43_loss: 1.3472 - sub_19_loss: 0.0356 - add_46_loss: 0.5172 - mul_37_loss: 0.0000e+00 - lr: 1.0000e-04 - time: 0.0955\n",
      "Epoch 35/100\n",
      "4/4 [==============================] - 0s 9ms/step - batch: 1.5000 - size: 50.0000 - loss: 1.9597 - add_43_loss: 1.3890 - sub_19_loss: 0.0391 - add_46_loss: 0.5173 - mul_37_loss: 0.0000e+00 - lr: 1.0000e-04 - time: 0.1033\n",
      "Epoch 36/100\n",
      "4/4 [==============================] - 0s 7ms/step - batch: 1.5000 - size: 50.0000 - loss: 2.1233 - add_43_loss: 1.5946 - sub_19_loss: 0.0423 - add_46_loss: 0.5173 - mul_37_loss: 0.0000e+00 - lr: 1.0000e-04 - time: 0.0862\n",
      "Epoch 37/100\n",
      "4/4 [==============================] - 0s 7ms/step - batch: 1.5000 - size: 50.0000 - loss: 2.0435 - add_43_loss: 1.4987 - sub_19_loss: 0.0433 - add_46_loss: 0.5173 - mul_37_loss: 0.0000e+00 - lr: 1.0000e-04 - time: 0.1019\n",
      "Epoch 38/100\n",
      "4/4 [==============================] - 0s 7ms/step - batch: 1.5000 - size: 50.0000 - loss: 1.8768 - add_43_loss: 1.2971 - sub_19_loss: 0.0416 - add_46_loss: 0.5174 - mul_37_loss: 0.0000e+00 - lr: 1.0000e-04 - time: 0.0955\n",
      "Epoch 39/100\n",
      "4/4 [==============================] - 0s 7ms/step - batch: 1.5000 - size: 50.0000 - loss: 1.9631 - add_43_loss: 1.4068 - sub_19_loss: 0.0454 - add_46_loss: 0.5174 - mul_37_loss: 0.0000e+00 - lr: 1.0000e-04 - time: 0.1028\n",
      "Epoch 40/100\n",
      "4/4 [==============================] - 0s 7ms/step - batch: 1.5000 - size: 50.0000 - loss: 1.8890 - add_43_loss: 1.3189 - sub_19_loss: 0.0460 - add_46_loss: 0.5174 - mul_37_loss: 0.0000e+00 - lr: 1.0000e-04 - time: 0.0982\n",
      "Epoch 41/100\n",
      "4/4 [==============================] - 0s 7ms/step - batch: 1.5000 - size: 50.0000 - loss: 2.1649 - add_43_loss: 1.6595 - sub_19_loss: 0.0559 - add_46_loss: 0.5175 - mul_37_loss: 0.0000e+00 - lr: 1.0000e-04 - time: 0.0959\n",
      "Epoch 42/100\n",
      "4/4 [==============================] - 0s 7ms/step - batch: 1.5000 - size: 50.0000 - loss: 1.8678 - add_43_loss: 1.2964 - sub_19_loss: 0.0531 - add_46_loss: 0.5175 - mul_37_loss: 0.0000e+00 - lr: 1.0000e-04 - time: 0.0941\n",
      "Epoch 43/100\n",
      "4/4 [==============================] - 0s 8ms/step - batch: 1.5000 - size: 50.0000 - loss: 1.7526 - add_43_loss: 1.1623 - sub_19_loss: 0.0483 - add_46_loss: 0.5176 - mul_37_loss: 0.0000e+00 - lr: 1.0000e-04 - time: 0.0989\n",
      "Epoch 44/100\n",
      "4/4 [==============================] - 0s 8ms/step - batch: 1.5000 - size: 50.0000 - loss: 1.7620 - add_43_loss: 1.1767 - sub_19_loss: 0.0507 - add_46_loss: 0.5176 - mul_37_loss: 0.0000e+00 - lr: 1.0000e-04 - time: 0.1003\n",
      "Epoch 45/100\n",
      "4/4 [==============================] - 0s 7ms/step - batch: 1.5000 - size: 50.0000 - loss: 1.8146 - add_43_loss: 1.2446 - sub_19_loss: 0.0528 - add_46_loss: 0.5177 - mul_37_loss: 0.0000e+00 - lr: 1.0000e-04 - time: 0.0962\n",
      "Epoch 46/100\n",
      "4/4 [==============================] - 0s 7ms/step - batch: 1.5000 - size: 50.0000 - loss: 1.7383 - add_43_loss: 1.1544 - sub_19_loss: 0.0539 - add_46_loss: 0.5177 - mul_37_loss: 0.0000e+00 - lr: 1.0000e-04 - time: 0.0984\n",
      "Epoch 47/100\n",
      "4/4 [==============================] - 0s 7ms/step - batch: 1.5000 - size: 50.0000 - loss: 1.7607 - add_43_loss: 1.1883 - sub_19_loss: 0.0528 - add_46_loss: 0.5178 - mul_37_loss: 0.0000e+00 - lr: 1.0000e-04 - time: 0.0993\n",
      "Epoch 48/100\n",
      "4/4 [==============================] - 0s 8ms/step - batch: 1.5000 - size: 50.0000 - loss: 1.6267 - add_43_loss: 1.0295 - sub_19_loss: 0.0498 - add_46_loss: 0.5178 - mul_37_loss: 0.0000e+00 - lr: 1.0000e-04 - time: 0.0968\n",
      "Epoch 49/100\n",
      "4/4 [==============================] - 0s 7ms/step - batch: 1.5000 - size: 50.0000 - loss: 1.6542 - add_43_loss: 1.0606 - sub_19_loss: 0.0579 - add_46_loss: 0.5178 - mul_37_loss: 0.0000e+00 - lr: 1.0000e-04 - time: 0.1060\n",
      "Epoch 50/100\n",
      "4/4 [==============================] - 0s 8ms/step - batch: 1.5000 - size: 50.0000 - loss: 1.6702 - add_43_loss: 1.0899 - sub_19_loss: 0.0539 - add_46_loss: 0.5179 - mul_37_loss: 0.0000e+00 - lr: 1.0000e-04 - time: 0.1009\n",
      "Epoch 51/100\n",
      "4/4 [==============================] - 0s 7ms/step - batch: 1.5000 - size: 50.0000 - loss: 1.6739 - add_43_loss: 1.0950 - sub_19_loss: 0.0593 - add_46_loss: 0.5180 - mul_37_loss: 0.0000e+00 - lr: 1.0000e-04 - time: 0.0917\n",
      "Epoch 52/100\n",
      "4/4 [==============================] - 0s 7ms/step - batch: 1.5000 - size: 50.0000 - loss: 1.6382 - add_43_loss: 1.0507 - sub_19_loss: 0.0632 - add_46_loss: 0.5180 - mul_37_loss: 0.0000e+00 - lr: 1.0000e-04 - time: 0.1011\n",
      "Epoch 53/100\n",
      "4/4 [==============================] - 0s 8ms/step - batch: 1.5000 - size: 50.0000 - loss: 1.6752 - add_43_loss: 1.1028 - sub_19_loss: 0.0641 - add_46_loss: 0.5180 - mul_37_loss: 0.0000e+00 - lr: 1.0000e-04 - time: 0.0968\n",
      "Epoch 54/100\n",
      "4/4 [==============================] - 0s 7ms/step - batch: 1.5000 - size: 50.0000 - loss: 1.5482 - add_43_loss: 0.9483 - sub_19_loss: 0.0645 - add_46_loss: 0.5181 - mul_37_loss: 0.0000e+00 - lr: 1.0000e-04 - time: 0.1028\n",
      "Epoch 55/100\n",
      "4/4 [==============================] - 0s 9ms/step - batch: 1.5000 - size: 50.0000 - loss: 1.5473 - add_43_loss: 0.9512 - sub_19_loss: 0.0675 - add_46_loss: 0.5181 - mul_37_loss: 0.0000e+00 - lr: 1.0000e-04 - time: 0.0981\n",
      "Epoch 56/100\n",
      "4/4 [==============================] - 0s 8ms/step - batch: 1.5000 - size: 50.0000 - loss: 1.6369 - add_43_loss: 1.0549 - sub_19_loss: 0.0810 - add_46_loss: 0.5181 - mul_37_loss: 0.0000e+00 - lr: 1.0000e-04 - time: 0.0969\n",
      "Epoch 57/100\n",
      "4/4 [==============================] - 0s 7ms/step - batch: 1.5000 - size: 50.0000 - loss: 1.4698 - add_43_loss: 0.8626 - sub_19_loss: 0.0710 - add_46_loss: 0.5182 - mul_37_loss: 0.0000e+00 - lr: 1.0000e-04 - time: 0.0940\n",
      "Epoch 58/100\n",
      "4/4 [==============================] - 0s 8ms/step - batch: 1.5000 - size: 50.0000 - loss: 1.4711 - add_43_loss: 0.8653 - sub_19_loss: 0.0753 - add_46_loss: 0.5182 - mul_37_loss: 0.0000e+00 - lr: 1.0000e-04 - time: 0.0986\n",
      "Epoch 59/100\n",
      "4/4 [==============================] - 0s 9ms/step - batch: 1.5000 - size: 50.0000 - loss: 1.4650 - add_43_loss: 0.8623 - sub_19_loss: 0.0771 - add_46_loss: 0.5183 - mul_37_loss: 0.0000e+00 - lr: 1.0000e-04 - time: 0.1038\n",
      "Epoch 60/100\n",
      "4/4 [==============================] - 0s 6ms/step - batch: 1.5000 - size: 50.0000 - loss: 1.3969 - add_43_loss: 0.7834 - sub_19_loss: 0.0774 - add_46_loss: 0.5183 - mul_37_loss: 0.0000e+00 - lr: 1.0000e-04 - time: 0.0869\n",
      "Epoch 61/100\n",
      "4/4 [==============================] - 0s 7ms/step - batch: 1.5000 - size: 50.0000 - loss: 1.5287 - add_43_loss: 0.9467 - sub_19_loss: 0.0865 - add_46_loss: 0.5184 - mul_37_loss: 0.0000e+00 - lr: 1.0000e-04 - time: 0.0992\n",
      "Epoch 62/100\n",
      "4/4 [==============================] - 0s 7ms/step - batch: 1.5000 - size: 50.0000 - loss: 1.4003 - add_43_loss: 0.7899 - sub_19_loss: 0.0881 - add_46_loss: 0.5184 - mul_37_loss: 0.0000e+00 - lr: 1.0000e-04 - time: 0.0983\n",
      "Epoch 63/100\n",
      "4/4 [==============================] - 0s 7ms/step - batch: 1.5000 - size: 50.0000 - loss: 1.3827 - add_43_loss: 0.7742 - sub_19_loss: 0.0890 - add_46_loss: 0.5185 - mul_37_loss: 0.0000e+00 - lr: 1.0000e-04 - time: 0.0948\n",
      "Epoch 64/100\n",
      "4/4 [==============================] - 0s 6ms/step - batch: 1.5000 - size: 50.0000 - loss: 1.2941 - add_43_loss: 0.6696 - sub_19_loss: 0.0891 - add_46_loss: 0.5186 - mul_37_loss: 0.0000e+00 - lr: 1.0000e-04 - time: 0.0948\n",
      "Epoch 65/100\n",
      "4/4 [==============================] - 0s 8ms/step - batch: 1.5000 - size: 50.0000 - loss: 1.3719 - add_43_loss: 0.7629 - sub_19_loss: 0.1006 - add_46_loss: 0.5187 - mul_37_loss: 0.0000e+00 - lr: 1.0000e-04 - time: 0.1043\n",
      "Epoch 66/100\n",
      "4/4 [==============================] - 0s 7ms/step - batch: 1.5000 - size: 50.0000 - loss: 1.3782 - add_43_loss: 0.7666 - sub_19_loss: 0.1103 - add_46_loss: 0.5188 - mul_37_loss: 0.0000e+00 - lr: 1.0000e-04 - time: 0.0946\n",
      "Epoch 67/100\n",
      "4/4 [==============================] - 0s 8ms/step - batch: 1.5000 - size: 50.0000 - loss: 1.3544 - add_43_loss: 0.7416 - sub_19_loss: 0.1137 - add_46_loss: 0.5189 - mul_37_loss: 0.0000e+00 - lr: 1.0000e-04 - time: 0.1030\n",
      "Epoch 68/100\n",
      "4/4 [==============================] - 0s 7ms/step - batch: 1.5000 - size: 50.0000 - loss: 1.3226 - add_43_loss: 0.7109 - sub_19_loss: 0.1104 - add_46_loss: 0.5190 - mul_37_loss: 0.0000e+00 - lr: 1.0000e-04 - time: 0.0977\n",
      "Epoch 69/100\n",
      "4/4 [==============================] - 0s 8ms/step - batch: 1.5000 - size: 50.0000 - loss: 1.1886 - add_43_loss: 0.5502 - sub_19_loss: 0.1118 - add_46_loss: 0.5191 - mul_37_loss: 0.0000e+00 - lr: 1.0000e-04 - time: 0.0976\n",
      "Epoch 70/100\n",
      "4/4 [==============================] - 0s 8ms/step - batch: 1.5000 - size: 50.0000 - loss: 1.2278 - add_43_loss: 0.6045 - sub_19_loss: 0.1135 - add_46_loss: 0.5191 - mul_37_loss: 0.0000e+00 - lr: 1.0000e-04 - time: 0.0939\n",
      "Epoch 71/100\n",
      "4/4 [==============================] - 0s 8ms/step - batch: 1.5000 - size: 50.0000 - loss: 1.2059 - add_43_loss: 0.5852 - sub_19_loss: 0.1121 - add_46_loss: 0.5192 - mul_37_loss: 0.0000e+00 - lr: 1.0000e-04 - time: 0.0993\n",
      "Epoch 72/100\n",
      "4/4 [==============================] - 0s 8ms/step - batch: 1.5000 - size: 50.0000 - loss: 1.0376 - add_43_loss: 0.3920 - sub_19_loss: 0.1038 - add_46_loss: 0.5193 - mul_37_loss: 0.0000e+00 - lr: 1.0000e-04 - time: 0.0969\n",
      "Epoch 73/100\n",
      "4/4 [==============================] - 0s 7ms/step - batch: 1.5000 - size: 50.0000 - loss: 1.0666 - add_43_loss: 0.4266 - sub_19_loss: 0.1111 - add_46_loss: 0.5193 - mul_37_loss: 0.0000e+00 - lr: 1.0000e-04 - time: 0.0932\n",
      "Epoch 74/100\n",
      "4/4 [==============================] - 0s 7ms/step - batch: 1.5000 - size: 50.0000 - loss: 1.0663 - add_43_loss: 0.4228 - sub_19_loss: 0.1205 - add_46_loss: 0.5193 - mul_37_loss: 0.0000e+00 - lr: 1.0000e-04 - time: 0.1001\n",
      "Epoch 75/100\n",
      "4/4 [==============================] - 0s 7ms/step - batch: 1.5000 - size: 50.0000 - loss: 1.0517 - add_43_loss: 0.4063 - sub_19_loss: 0.1252 - add_46_loss: 0.5193 - mul_37_loss: 0.0000e+00 - lr: 1.0000e-04 - time: 0.0943\n",
      "Epoch 76/100\n",
      "4/4 [==============================] - 0s 7ms/step - batch: 1.5000 - size: 50.0000 - loss: 1.0737 - add_43_loss: 0.4275 - sub_19_loss: 0.1376 - add_46_loss: 0.5194 - mul_37_loss: 0.0000e+00 - lr: 1.0000e-04 - time: 0.0995\n",
      "Epoch 77/100\n",
      "4/4 [==============================] - 0s 8ms/step - batch: 1.5000 - size: 50.0000 - loss: 1.0819 - add_43_loss: 0.4356 - sub_19_loss: 0.1459 - add_46_loss: 0.5195 - mul_37_loss: 0.0000e+00 - lr: 1.0000e-04 - time: 0.0978\n",
      "Epoch 78/100\n",
      "4/4 [==============================] - 0s 7ms/step - batch: 1.5000 - size: 50.0000 - loss: 1.0689 - add_43_loss: 0.4186 - sub_19_loss: 0.1513 - add_46_loss: 0.5196 - mul_37_loss: 0.0000e+00 - lr: 1.0000e-04 - time: 0.0999\n",
      "Epoch 79/100\n",
      "4/4 [==============================] - 0s 6ms/step - batch: 1.5000 - size: 50.0000 - loss: 1.0056 - add_43_loss: 0.3536 - sub_19_loss: 0.1416 - add_46_loss: 0.5197 - mul_37_loss: 0.0000e+00 - lr: 1.0000e-04 - time: 0.0960\n",
      "Epoch 80/100\n",
      "4/4 [==============================] - 0s 7ms/step - batch: 1.5000 - size: 50.0000 - loss: 0.8989 - add_43_loss: 0.2367 - sub_19_loss: 0.1295 - add_46_loss: 0.5199 - mul_37_loss: 0.0000e+00 - lr: 1.0000e-04 - time: 0.0992\n",
      "Epoch 81/100\n",
      "4/4 [==============================] - 0s 7ms/step - batch: 1.5000 - size: 50.0000 - loss: 0.9308 - add_43_loss: 0.2574 - sub_19_loss: 0.1529 - add_46_loss: 0.5199 - mul_37_loss: 0.0000e+00 - lr: 1.0000e-04 - time: 0.0968\n",
      "Epoch 82/100\n",
      "4/4 [==============================] - 0s 8ms/step - batch: 1.5000 - size: 50.0000 - loss: 0.8894 - add_43_loss: 0.2152 - sub_19_loss: 0.1460 - add_46_loss: 0.5200 - mul_37_loss: 0.0000e+00 - lr: 1.0000e-04 - time: 0.1011\n",
      "Epoch 83/100\n",
      "4/4 [==============================] - 0s 7ms/step - batch: 1.5000 - size: 50.0000 - loss: 0.9157 - add_43_loss: 0.2471 - sub_19_loss: 0.1503 - add_46_loss: 0.5200 - mul_37_loss: 0.0000e+00 - lr: 1.0000e-04 - time: 0.0961\n",
      "Epoch 84/100\n",
      "4/4 [==============================] - 0s 8ms/step - batch: 1.5000 - size: 50.0000 - loss: 0.8605 - add_43_loss: 0.1967 - sub_19_loss: 0.1339 - add_46_loss: 0.5201 - mul_37_loss: 0.0000e+00 - lr: 1.0000e-04 - time: 0.1010\n",
      "Epoch 85/100\n",
      "4/4 [==============================] - 0s 7ms/step - batch: 1.5000 - size: 50.0000 - loss: 0.8831 - add_43_loss: 0.2071 - sub_19_loss: 0.1538 - add_46_loss: 0.5201 - mul_37_loss: 0.0000e+00 - lr: 1.0000e-04 - time: 0.0982\n",
      "Epoch 86/100\n",
      "4/4 [==============================] - 0s 7ms/step - batch: 1.5000 - size: 50.0000 - loss: 0.9224 - add_43_loss: 0.2495 - sub_19_loss: 0.1626 - add_46_loss: 0.5202 - mul_37_loss: 0.0000e+00 - lr: 1.0000e-04 - time: 0.0965\n",
      "Epoch 87/100\n",
      "4/4 [==============================] - 0s 7ms/step - batch: 1.5000 - size: 50.0000 - loss: 0.8921 - add_43_loss: 0.2214 - sub_19_loss: 0.1545 - add_46_loss: 0.5203 - mul_37_loss: 0.0000e+00 - lr: 1.0000e-04 - time: 0.0992\n",
      "Epoch 88/100\n",
      "4/4 [==============================] - 0s 8ms/step - batch: 1.5000 - size: 50.0000 - loss: 0.8964 - add_43_loss: 0.2080 - sub_19_loss: 0.1432 - add_46_loss: 0.5516 - mul_37_loss: 0.0000e+00 - lr: 1.0000e-04 - time: 0.0979\n",
      "Epoch 89/100\n",
      "4/4 [==============================] - 0s 8ms/step - batch: 1.5000 - size: 50.0000 - loss: 0.8525 - add_43_loss: 0.1793 - sub_19_loss: 0.1497 - add_46_loss: 0.5204 - mul_37_loss: 0.0000e+00 - lr: 1.0000e-04 - time: 0.1007\n",
      "Epoch 90/100\n",
      "4/4 [==============================] - 0s 8ms/step - batch: 1.5000 - size: 50.0000 - loss: 0.8448 - add_43_loss: 0.1870 - sub_19_loss: 0.1337 - add_46_loss: 0.5204 - mul_37_loss: 0.0000e+00 - lr: 1.0000e-04 - time: 0.1087\n",
      "Epoch 91/100\n",
      "4/4 [==============================] - 0s 7ms/step - batch: 1.5000 - size: 50.0000 - loss: 0.8620 - add_43_loss: 0.2019 - sub_19_loss: 0.1412 - add_46_loss: 0.5204 - mul_37_loss: 0.0000e+00 - lr: 1.0000e-04 - time: 0.0983\n",
      "Epoch 92/100\n",
      "4/4 [==============================] - 0s 7ms/step - batch: 1.5000 - size: 50.0000 - loss: 0.8822 - add_43_loss: 0.2113 - sub_19_loss: 0.1580 - add_46_loss: 0.5205 - mul_37_loss: 0.0000e+00 - lr: 1.0000e-04 - time: 0.0939\n",
      "Epoch 93/100\n",
      "4/4 [==============================] - 0s 6ms/step - batch: 1.5000 - size: 50.0000 - loss: 0.8352 - add_43_loss: 0.1770 - sub_19_loss: 0.1346 - add_46_loss: 0.5206 - mul_37_loss: 0.0000e+00 - lr: 1.0000e-04 - time: 0.0930\n",
      "Epoch 94/100\n",
      "4/4 [==============================] - 0s 8ms/step - batch: 1.5000 - size: 50.0000 - loss: 0.8329 - add_43_loss: 0.1827 - sub_19_loss: 0.1271 - add_46_loss: 0.5206 - mul_37_loss: 0.0000e+00 - lr: 1.0000e-04 - time: 0.1014\n",
      "Epoch 95/100\n",
      "4/4 [==============================] - 0s 6ms/step - batch: 1.5000 - size: 50.0000 - loss: 0.8379 - add_43_loss: 0.1861 - sub_19_loss: 0.1309 - add_46_loss: 0.5206 - mul_37_loss: 0.0000e+00 - lr: 1.0000e-04 - time: 0.0973\n",
      "Epoch 96/100\n",
      "4/4 [==============================] - 0s 8ms/step - batch: 1.5000 - size: 50.0000 - loss: 0.8777 - add_43_loss: 0.2283 - sub_19_loss: 0.1391 - add_46_loss: 0.5207 - mul_37_loss: 0.0000e+00 - lr: 1.0000e-04 - time: 0.1011\n",
      "Epoch 97/100\n",
      "4/4 [==============================] - 0s 7ms/step - batch: 1.5000 - size: 50.0000 - loss: 0.8069 - add_43_loss: 0.1556 - sub_19_loss: 0.1242 - add_46_loss: 0.5207 - mul_37_loss: 0.0000e+00 - lr: 1.0000e-04 - time: 0.0952\n",
      "Epoch 98/100\n",
      "4/4 [==============================] - 0s 7ms/step - batch: 1.5000 - size: 50.0000 - loss: 0.8436 - add_43_loss: 0.1851 - sub_19_loss: 0.1413 - add_46_loss: 0.5207 - mul_37_loss: 0.0000e+00 - lr: 1.0000e-04 - time: 0.0986\n",
      "Epoch 99/100\n",
      "4/4 [==============================] - 0s 9ms/step - batch: 1.5000 - size: 50.0000 - loss: 0.8306 - add_43_loss: 0.1866 - sub_19_loss: 0.1247 - add_46_loss: 0.5208 - mul_37_loss: 0.0000e+00 - lr: 1.0000e-04 - time: 0.1069\n",
      "Epoch 100/100\n",
      "4/4 [==============================] - 0s 8ms/step - batch: 1.5000 - size: 50.0000 - loss: 0.8629 - add_43_loss: 0.1883 - sub_19_loss: 0.1297 - add_46_loss: 0.5550 - mul_37_loss: 0.0000e+00 - lr: 1.0000e-04 - time: 0.1054\n"
     ]
    }
   ],
   "source": [
    "training_history = model.train([x_train], 4*['zeros'], learning_rate=0.0001, epochs=100)"
   ]
  },
  {
   "cell_type": "code",
   "execution_count": 116,
   "metadata": {},
   "outputs": [
    {
     "data": {
      "image/png": "[encoded data removed]",
      "text/plain": [
       "<Figure size 432x288 with 1 Axes>"
      ]
     },
     "metadata": {
      "needs_background": "light"
     },
     "output_type": "display_data"
    }
   ],
   "source": [
    "plt.semilogy(training_history.history['loss'])\n",
    "plt.xlabel('epochs')\n",
    "plt.ylabel('loss')\n",
    "plt.show()"
   ]
  },
  {
   "cell_type": "code",
   "execution_count": 117,
   "metadata": {},
   "outputs": [
    {
     "data": {
      "text/plain": [
       "array([ 0.60575136,  0.42669077,  0.26044016,  0.10797122, -0.03338576,\n",
       "       -0.1632779 , -0.27809834, -0.37366913, -0.44773822, -0.50086836,\n",
       "       -0.53580302])"
      ]
     },
     "execution_count": 117,
     "metadata": {},
     "output_type": "execute_result"
    }
   ],
   "source": [
    "# evaluate the test data\n",
    "u_pred = u.eval(model, [x_test])\n",
    "u_pred"
   ]
  },
  {
   "cell_type": "code",
   "execution_count": 118,
   "metadata": {},
   "outputs": [
    {
     "name": "stdout",
     "output_type": "stream",
     "text": [
      "(17,)\n",
      "1953\n"
     ]
    },
    {
     "name": "stderr",
     "output_type": "stream",
     "text": [
      "C:\\Users\\YOUSSE~1\\AppData\\Local\\Temp/ipykernel_13436/1516686478.py:2: VisibleDeprecationWarning: Creating an ndarray from ragged nested sequences (which is a list-or-tuple of lists-or-tuples-or ndarrays with different lengths or shapes) is deprecated. If you meant to do this, you must specify 'dtype=object' when creating the ndarray\n",
      "  print(np.array(u.get_weights()).shape)\n"
     ]
    }
   ],
   "source": [
    "# the weights and biases of model\n",
    "print(np.array(u.get_weights()).shape)\n",
    "# the number of parameters\n",
    "print(u.count_params())"
   ]
  },
  {
   "cell_type": "code",
   "execution_count": 121,
   "metadata": {},
   "outputs": [
    {
     "data": {
      "text/plain": [
       "Text(0, 0.5, '$u$')"
      ]
     },
     "execution_count": 121,
     "metadata": {},
     "output_type": "execute_result"
    },
    {
     "data": {
      "image/png": "[encoded data removed]",
      "text/plain": [
       "<Figure size 432x288 with 1 Axes>"
      ]
     },
     "metadata": {
      "needs_background": "light"
     },
     "output_type": "display_data"
    }
   ],
   "source": [
    "plt.plot(x_test, u_pred)\n",
    "plt.xlabel('$x$')\n",
    "plt.ylabel('$u$')"
   ]
  }
 ],
 "metadata": {
  "interpreter": {
   "hash": "f58cf6e73e4f029bbe056118fa6dee644f4f9335ebfaaf3e96b0425ab66bc2da"
  },
  "kernelspec": {
   "display_name": "Python 3.9.7 ('base')",
   "language": "python",
   "name": "python3"
  },
  "language_info": {
   "codemirror_mode": {
    "name": "ipython",
    "version": 3
   },
   "file_extension": ".py",
   "mimetype": "text/x-python",
   "name": "python",
   "nbconvert_exporter": "python",
   "pygments_lexer": "ipython3",
   "version": "3.9.7"
  },
  "orig_nbformat": 4
 },
 "nbformat": 4,
 "nbformat_minor": 2
}
