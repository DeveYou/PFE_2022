{
 "cells": [
  {
   "cell_type": "markdown",
   "metadata": {},
   "source": [
    "# **PFE: solution of differential equations PDEs**"
   ]
  },
  {
   "cell_type": "markdown",
   "metadata": {},
   "source": [
    "### **PART 1 : solving partial differential equations using deep learning 'Neural networks' with SciANN library**"
   ]
  },
  {
   "cell_type": "markdown",
   "metadata": {},
   "source": [
    "#### **The first type of equations is Burgers equation**"
   ]
  },
  {
   "cell_type": "markdown",
   "metadata": {},
   "source": [
    "   * **Importing libraries**"
   ]
  },
  {
   "cell_type": "code",
   "execution_count": 153,
   "metadata": {},
   "outputs": [],
   "source": [
    "import numpy as np\n",
    "import matplotlib.pyplot as plt \n",
    "import sciann as sn \n",
    "from sciann.utils import diff, sin, sign\n",
    "from sciann.constraints import Data"
   ]
  },
  {
   "cell_type": "markdown",
   "metadata": {},
   "source": [
    "* **Step 1: Setting up the neural network**"
   ]
  },
  {
   "cell_type": "code",
   "execution_count": 154,
   "metadata": {},
   "outputs": [],
   "source": [
    "# generate the inputs variables\n",
    "x = sn.Variable('x')\n",
    "t = sn.Variable('t')\n",
    "# generate the outputs variables # Field is a layer to define outputs of each Functional. It is very much similar to Keras Dense layer.\n",
    "u = sn.Field('u', units=4) \n",
    "# Functional Multi-Layer Perceptron\n",
    "u = sn.Functional('u', [t,x], 8*[20], 'tanh')"
   ]
  },
  {
   "cell_type": "markdown",
   "metadata": {},
   "source": [
    "* **Step 2: Setting up the optimization problem**"
   ]
  },
  {
   "cell_type": "code",
   "execution_count": 155,
   "metadata": {},
   "outputs": [],
   "source": [
    "# generate the targets\n",
    "L1 = diff(u, t) + u*diff(u,x) - (0.01/np.pi)*diff(u, x, order=2)"
   ]
  },
  {
   "cell_type": "code",
   "execution_count": 184,
   "metadata": {},
   "outputs": [],
   "source": [
    "# geneate the boundary conditions\n",
    "# outputs\n",
    "TOL = 0.001\n",
    "C1 = (1-sign(t - TOL)) * (u + sin(np.pi*x))\n",
    "C2 = (1-sign(x - (-1+TOL))) * (u)\n",
    "C3 = (1+sign(x - ( 1-TOL))) * (u)\n",
    "# The sign function returns -1 if x < 0, 0 if x==0, 1 if x > 0."
   ]
  },
  {
   "cell_type": "code",
   "execution_count": 185,
   "metadata": {},
   "outputs": [
    {
     "name": "stdout",
     "output_type": "stream",
     "text": [
      "Model: \"model_18\"\n",
      "__________________________________________________________________________________________________\n",
      "Layer (type)                    Output Shape         Param #     Connected to                     \n",
      "==================================================================================================\n",
      "t (InputLayer)                  [(None, 1)]          0                                            \n",
      "__________________________________________________________________________________________________\n",
      "x (InputLayer)                  [(None, 1)]          0                                            \n",
      "__________________________________________________________________________________________________\n",
      "concat_22 (Concatenate)         (None, 2)            0           t[0][0]                          \n",
      "                                                                 x[0][0]                          \n",
      "__________________________________________________________________________________________________\n",
      "D20b_169 (Dense)                (None, 20)           60          concat_22[0][0]                  \n",
      "__________________________________________________________________________________________________\n",
      "sci_activation_211 (SciActivati (None, 20)           0           D20b_169[0][0]                   \n",
      "__________________________________________________________________________________________________\n",
      "D20b_170 (Dense)                (None, 20)           420         sci_activation_211[0][0]         \n",
      "__________________________________________________________________________________________________\n",
      "sci_activation_212 (SciActivati (None, 20)           0           D20b_170[0][0]                   \n",
      "__________________________________________________________________________________________________\n",
      "D20b_171 (Dense)                (None, 20)           420         sci_activation_212[0][0]         \n",
      "__________________________________________________________________________________________________\n",
      "sci_activation_213 (SciActivati (None, 20)           0           D20b_171[0][0]                   \n",
      "__________________________________________________________________________________________________\n",
      "D20b_172 (Dense)                (None, 20)           420         sci_activation_213[0][0]         \n",
      "__________________________________________________________________________________________________\n",
      "sci_activation_214 (SciActivati (None, 20)           0           D20b_172[0][0]                   \n",
      "__________________________________________________________________________________________________\n",
      "D20b_173 (Dense)                (None, 20)           420         sci_activation_214[0][0]         \n",
      "__________________________________________________________________________________________________\n",
      "sci_activation_215 (SciActivati (None, 20)           0           D20b_173[0][0]                   \n",
      "__________________________________________________________________________________________________\n",
      "D20b_174 (Dense)                (None, 20)           420         sci_activation_215[0][0]         \n",
      "__________________________________________________________________________________________________\n",
      "sci_activation_216 (SciActivati (None, 20)           0           D20b_174[0][0]                   \n",
      "__________________________________________________________________________________________________\n",
      "D20b_175 (Dense)                (None, 20)           420         sci_activation_216[0][0]         \n",
      "__________________________________________________________________________________________________\n",
      "sci_activation_217 (SciActivati (None, 20)           0           D20b_175[0][0]                   \n",
      "__________________________________________________________________________________________________\n",
      "D20b_176 (Dense)                (None, 20)           420         sci_activation_217[0][0]         \n",
      "__________________________________________________________________________________________________\n",
      "sci_activation_218 (SciActivati (None, 20)           0           D20b_176[0][0]                   \n",
      "__________________________________________________________________________________________________\n",
      "u (Field)                       (None, 1)            21          sci_activation_218[0][0]         \n",
      "__________________________________________________________________________________________________\n",
      "Grad__20 (Lambda)               (None, 1)            0           u[0][0]                          \n",
      "__________________________________________________________________________________________________\n",
      "sub_41 (Lambda)                 (None, 1)            0           t[0][0]                          \n",
      "__________________________________________________________________________________________________\n",
      "mul_61 (Lambda)                 (None, 1)            0           x[0][0]                          \n",
      "__________________________________________________________________________________________________\n",
      "sub_42 (Lambda)                 (None, 1)            0           x[0][0]                          \n",
      "__________________________________________________________________________________________________\n",
      "sub_43 (Lambda)                 (None, 1)            0           x[0][0]                          \n",
      "__________________________________________________________________________________________________\n",
      "Grad__19 (Lambda)               (None, 1)            0           u[0][0]                          \n",
      "__________________________________________________________________________________________________\n",
      "mul_51 (Lambda)                 (None, 1)            0           u[0][0]                          \n",
      "                                                                 Grad__20[0][0]                   \n",
      "__________________________________________________________________________________________________\n",
      "Grad2_u_21_x/ (Lambda)          (None, 1)            0           u[0][0]                          \n",
      "__________________________________________________________________________________________________\n",
      "sign_31 (Lambda)                (None, 1)            0           sub_41[0][0]                     \n",
      "__________________________________________________________________________________________________\n",
      "sin_11 (Lambda)                 (None, 1)            0           mul_61[0][0]                     \n",
      "__________________________________________________________________________________________________\n",
      "sign_32 (Lambda)                (None, 1)            0           sub_42[0][0]                     \n",
      "__________________________________________________________________________________________________\n",
      "sign_33 (Lambda)                (None, 1)            0           sub_43[0][0]                     \n",
      "__________________________________________________________________________________________________\n",
      "add_26 (Lambda)                 (None, 1)            0           Grad__19[0][0]                   \n",
      "                                                                 mul_51[0][0]                     \n",
      "__________________________________________________________________________________________________\n",
      "mul_52 (Lambda)                 (None, 1)            0           Grad2_u_21_x/[0][0]              \n",
      "__________________________________________________________________________________________________\n",
      "rsub_21 (Lambda)                (None, 1)            0           sign_31[0][0]                    \n",
      "__________________________________________________________________________________________________\n",
      "add_31 (Lambda)                 (None, 1)            0           u[0][0]                          \n",
      "                                                                 sin_11[0][0]                     \n",
      "__________________________________________________________________________________________________\n",
      "rsub_22 (Lambda)                (None, 1)            0           sign_32[0][0]                    \n",
      "__________________________________________________________________________________________________\n",
      "add_32 (Lambda)                 (None, 1)            0           sign_33[0][0]                    \n",
      "__________________________________________________________________________________________________\n",
      "sub_34 (Lambda)                 (None, 1)            0           add_26[0][0]                     \n",
      "                                                                 mul_52[0][0]                     \n",
      "__________________________________________________________________________________________________\n",
      "mul_62 (Lambda)                 (None, 1)            0           rsub_21[0][0]                    \n",
      "                                                                 add_31[0][0]                     \n",
      "__________________________________________________________________________________________________\n",
      "mul_63 (Lambda)                 (None, 1)            0           rsub_22[0][0]                    \n",
      "                                                                 u[0][0]                          \n",
      "__________________________________________________________________________________________________\n",
      "mul_64 (Lambda)                 (None, 1)            0           add_32[0][0]                     \n",
      "                                                                 u[0][0]                          \n",
      "==================================================================================================\n",
      "Total params: 3,021\n",
      "Trainable params: 3,021\n",
      "Non-trainable params: 0\n",
      "__________________________________________________________________________________________________\n"
     ]
    }
   ],
   "source": [
    "# creation the SciModel \"SciModel like Model in Keras\" and it's containe the model.compile() \n",
    "model = sn.SciModel([x, t], [L1, C1, C2, C3], plot_to_file='BE-Model.png')\n",
    "model.summary()"
   ]
  },
  {
   "cell_type": "markdown",
   "metadata": {},
   "source": [
    "* **Sampling grid** \n",
    "\n",
    " ***Training***"
   ]
  },
  {
   "cell_type": "code",
   "execution_count": 158,
   "metadata": {},
   "outputs": [
    {
     "name": "stdout",
     "output_type": "stream",
     "text": [
      "(100, 100)\n",
      "(100, 100)\n"
     ]
    }
   ],
   "source": [
    "# train the network\n",
    "x_train, t_train = np.meshgrid(\n",
    "    np.linspace(-1, 1, 100), \n",
    "    np.linspace(0, 1, 100)\n",
    ")\n",
    "print(x_train.shape)\n",
    "print(t_train.shape)"
   ]
  },
  {
   "cell_type": "code",
   "execution_count": 173,
   "metadata": {},
   "outputs": [
    {
     "name": "stdout",
     "output_type": "stream",
     "text": [
      "\n",
      "Total samples: 10000 \n",
      "Batch size: 64 \n",
      "Total batches: 157 \n",
      "\n",
      "\n",
      "Epoch 00020: ReduceLROnPlateau reducing learning rate to 0.0010000000474974513.\n",
      "\n",
      "Epoch 00030: ReduceLROnPlateau reducing learning rate to 0.0005000000237487257.\n",
      "\n",
      "Epoch 00057: ReduceLROnPlateau reducing learning rate to 0.0002500000118743628.\n",
      "\n",
      "Epoch 00094: ReduceLROnPlateau reducing learning rate to 0.0001250000059371814.\n"
     ]
    }
   ],
   "source": [
    "# training the data # calculate the loss function\n",
    "training_history = model.train([x_train, t_train], 4*['zero'], learning_rate=0.002, epochs=100, verbose=0)"
   ]
  },
  {
   "cell_type": "code",
   "execution_count": 174,
   "metadata": {},
   "outputs": [
    {
     "data": {
      "text/plain": [
       "[<matplotlib.lines.Line2D at 0x1b04f9ae1f0>]"
      ]
     },
     "execution_count": 174,
     "metadata": {},
     "output_type": "execute_result"
    },
    {
     "data": {
      "image/png": "[encoded data removed]",
      "text/plain": [
       "<Figure size 432x288 with 1 Axes>"
      ]
     },
     "metadata": {
      "needs_background": "light"
     },
     "output_type": "display_data"
    }
   ],
   "source": [
    "plt.semilogy(training_history.history['loss'])"
   ]
  },
  {
   "cell_type": "markdown",
   "metadata": {},
   "source": [
    "***Testing***"
   ]
  },
  {
   "cell_type": "code",
   "execution_count": 175,
   "metadata": {},
   "outputs": [
    {
     "name": "stdout",
     "output_type": "stream",
     "text": [
      "(200, 200)\n",
      "(200, 200)\n"
     ]
    }
   ],
   "source": [
    "x_test, t_test = np.meshgrid(\n",
    "    np.linspace(-1, 1, 200), \n",
    "    np.linspace(0, 1, 200)\n",
    ")\n",
    "print(x_test.shape)\n",
    "print(t_test.shape)"
   ]
  },
  {
   "cell_type": "markdown",
   "metadata": {},
   "source": [
    "Evaluate the test data"
   ]
  },
  {
   "cell_type": "code",
   "execution_count": 176,
   "metadata": {},
   "outputs": [
    {
     "data": {
      "text/plain": [
       "(200, 200)"
      ]
     },
     "execution_count": 176,
     "metadata": {},
     "output_type": "execute_result"
    }
   ],
   "source": [
    "u_eval = u.eval(model, [x_test, t_test])\n",
    "u_eval.shape"
   ]
  },
  {
   "cell_type": "code",
   "execution_count": 188,
   "metadata": {},
   "outputs": [
    {
     "data": {
      "text/plain": [
       "3021"
      ]
     },
     "execution_count": 188,
     "metadata": {},
     "output_type": "execute_result"
    }
   ],
   "source": [
    "# the weights and biases of model\n",
    "u.get_weights()\n",
    "# the number of parameters\n",
    "u.count_params()"
   ]
  },
  {
   "cell_type": "code",
   "execution_count": null,
   "metadata": {},
   "outputs": [
    {
     "name": "stderr",
     "output_type": "stream",
     "text": [
      "C:\\Users\\YOUSSE~1\\AppData\\Local\\Temp/ipykernel_5732/2453502099.py:2: MatplotlibDeprecationWarning: shading='flat' when X and Y have the same dimensions as C is deprecated since 3.3.  Either specify the corners of the quadrilaterals with X and Y, or pass shading='auto', 'nearest' or 'gouraud', or set rcParams['pcolor.shading'].  This will become an error two minor releases later.\n",
      "  plt.pcolor(x_test, t_test, u_eval, cmap='seismic')\n"
     ]
    },
    {
     "data": {
      "text/plain": [
       "<matplotlib.colorbar.Colorbar at 0x1b047c36ee0>"
      ]
     },
     "execution_count": 145,
     "metadata": {},
     "output_type": "execute_result"
    },
    {
     "data": {
      "image/png": "[encoded data removed]",
      "text/plain": [
       "<Figure size 216x288 with 2 Axes>"
      ]
     },
     "metadata": {
      "needs_background": "light"
     },
     "output_type": "display_data"
    }
   ],
   "source": [
    "fig = plt.figure(figsize=(3, 4))\n",
    "plt.pcolor(x_test, t_test, u_eval, cmap='seismic')\n",
    "plt.xlabel('x')\n",
    "plt.ylabel('t')\n",
    "plt.colorbar()"
   ]
  },
  {
   "cell_type": "code",
   "execution_count": null,
   "metadata": {},
   "outputs": [
    {
     "name": "stderr",
     "output_type": "stream",
     "text": [
      "C:\\Users\\YouSsef-pc\\anaconda3\\lib\\site-packages\\tensorflow\\python\\keras\\engine\\training.py:2424: UserWarning: `Model.state_updates` will be removed in a future version. This property should not be used in TensorFlow 2.0, as `updates` are applied automatically.\n",
      "  warnings.warn('`Model.state_updates` will be removed in a future version. '\n"
     ]
    },
    {
     "data": {
      "text/plain": [
       "(4, 200, 200)"
      ]
     },
     "execution_count": 146,
     "metadata": {},
     "output_type": "execute_result"
    }
   ],
   "source": [
    "# model.solve([x_train, t_train], u_eval, epochs=32, batches=10)\n",
    "u_pred = model.predict([x_test, t_test], batch_size=None, verbose=0, steps=None)\n",
    "np.array(u_pred).shape"
   ]
  },
  {
   "cell_type": "code",
   "execution_count": null,
   "metadata": {},
   "outputs": [
    {
     "name": "stderr",
     "output_type": "stream",
     "text": [
      "C:\\Users\\YOUSSE~1\\AppData\\Local\\Temp/ipykernel_5732/627205696.py:2: MatplotlibDeprecationWarning: shading='flat' when X and Y have the same dimensions as C is deprecated since 3.3.  Either specify the corners of the quadrilaterals with X and Y, or pass shading='auto', 'nearest' or 'gouraud', or set rcParams['pcolor.shading'].  This will become an error two minor releases later.\n",
      "  plt.pcolor(x_test, t_test, u_pred[0], cmap='seismic')\n"
     ]
    },
    {
     "data": {
      "text/plain": [
       "<matplotlib.colorbar.Colorbar at 0x1b047c5e790>"
      ]
     },
     "execution_count": 147,
     "metadata": {},
     "output_type": "execute_result"
    },
    {
     "data": {
      "image/png": "[encoded data removed]",
      "text/plain": [
       "<Figure size 216x288 with 2 Axes>"
      ]
     },
     "metadata": {
      "needs_background": "light"
     },
     "output_type": "display_data"
    }
   ],
   "source": [
    "fig = plt.figure(figsize=(3, 4))\n",
    "plt.pcolor(x_test, t_test, u_pred[0], cmap='seismic')\n",
    "plt.xlabel('x')\n",
    "plt.ylabel('t')\n",
    "plt.colorbar()"
   ]
  },
  {
   "cell_type": "code",
   "execution_count": null,
   "metadata": {},
   "outputs": [
    {
     "name": "stdout",
     "output_type": "stream",
     "text": [
      "[array([[-0.00896014]], dtype=float32), array([[0.]], dtype=float32), array([[-0.]], dtype=float32), array([[-0.]], dtype=float32)]\n",
      "[[-0.53477156]]\n"
     ]
    }
   ],
   "source": [
    "# example prediction \n",
    "x = np.array([[0.5]])\n",
    "t = np.array([[0.5]])\n",
    "print(model.predict([x, t]))\n",
    "print(u.eval(model, [x, t]))"
   ]
  },
  {
   "cell_type": "code",
   "execution_count": null,
   "metadata": {},
   "outputs": [
    {
     "data": {
      "text/plain": [
       "<function matplotlib.pyplot.show(close=None, block=None)>"
      ]
     },
     "execution_count": 149,
     "metadata": {},
     "output_type": "execute_result"
    },
    {
     "data": {
      "image/png": "[encoded data removed]",
      "text/plain": [
       "<Figure size 432x288 with 1 Axes>"
      ]
     },
     "metadata": {
      "needs_background": "light"
     },
     "output_type": "display_data"
    }
   ],
   "source": [
    "plt.plot(x_test, u_pred[0])\n",
    "plt.xlabel('x')\n",
    "plt.ylabel('L1')\n",
    "plt.tight_layout()\n",
    "plt.show    "
   ]
  },
  {
   "cell_type": "code",
   "execution_count": null,
   "metadata": {},
   "outputs": [
    {
     "data": {
      "text/plain": [
       "<function matplotlib.pyplot.show(close=None, block=None)>"
      ]
     },
     "execution_count": 150,
     "metadata": {},
     "output_type": "execute_result"
    },
    {
     "data": {
      "image/png": "[encoded data removed]",
      "text/plain": [
       "<Figure size 432x288 with 1 Axes>"
      ]
     },
     "metadata": {
      "needs_background": "light"
     },
     "output_type": "display_data"
    }
   ],
   "source": [
    "plt.plot(x_test, u_pred[1])\n",
    "plt.xlabel('x')\n",
    "plt.ylabel('C1')\n",
    "plt.tight_layout()\n",
    "plt.show    "
   ]
  }
 ],
 "metadata": {
  "interpreter": {
   "hash": "b110b01a79d5fe204bd4749d12f062877fcc68f1365ea7440869d747a9f89887"
  },
  "kernelspec": {
   "display_name": "Python 3.9.10 64-bit (windows store)",
   "language": "python",
   "name": "python3"
  },
  "language_info": {
   "codemirror_mode": {
    "name": "ipython",
    "version": 3
   },
   "file_extension": ".py",
   "mimetype": "text/x-python",
   "name": "python",
   "nbconvert_exporter": "python",
   "pygments_lexer": "ipython3",
   "version": "3.9.7"
  },
  "orig_nbformat": 4
 },
 "nbformat": 4,
 "nbformat_minor": 2
}
