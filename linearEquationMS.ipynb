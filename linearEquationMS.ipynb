{
 "cells": [
  {
   "cell_type": "markdown",
   "metadata": {},
   "source": [
    "# **PFE: Solution of differential equations PDEs**"
   ]
  },
  {
   "cell_type": "markdown",
   "metadata": {},
   "source": [
    "### **Solving linear elliptic equation using finite difference method**"
   ]
  },
  {
   "cell_type": "code",
   "execution_count": 81,
   "metadata": {},
   "outputs": [],
   "source": [
    "import numpy as np\n",
    "import matplotlib.pyplot as plt"
   ]
  },
  {
   "cell_type": "code",
   "execution_count": 82,
   "metadata": {},
   "outputs": [
    {
     "data": {
      "text/plain": [
       "[0.0,\n",
       " 0.1,\n",
       " 0.2,\n",
       " 0.30000000000000004,\n",
       " 0.4,\n",
       " 0.5,\n",
       " 0.6000000000000001,\n",
       " 0.7000000000000001,\n",
       " 0.8,\n",
       " 0.9,\n",
       " 1.0]"
      ]
     },
     "execution_count": 82,
     "metadata": {},
     "output_type": "execute_result"
    }
   ],
   "source": [
    "def init(left_interval=0, right_interval= 1, n=10):\n",
    "    x = []\n",
    "    h = (right_interval-left_interval)/n\n",
    "    for i in range(n+1):\n",
    "        x.append(i * h)\n",
    "    return x, h\n",
    "x, h = init()\n",
    "x"
   ]
  },
  {
   "cell_type": "code",
   "execution_count": 83,
   "metadata": {},
   "outputs": [
    {
     "data": {
      "text/plain": [
       "array([-1.        , -1.10517092, -1.22140276, -1.34985881, -1.4918247 ,\n",
       "       -1.64872127, -1.8221188 , -2.01375271, -2.22554093, -2.45960311,\n",
       "       -2.71828183])"
      ]
     },
     "execution_count": 83,
     "metadata": {},
     "output_type": "execute_result"
    }
   ],
   "source": [
    "def f_function(x):\n",
    "    return -np.exp(x)\n",
    "\n",
    "f = f_function(x)   \n",
    "f"
   ]
  },
  {
   "cell_type": "code",
   "execution_count": 84,
   "metadata": {},
   "outputs": [
    {
     "data": {
      "text/plain": [
       "array([ 0.99      , -0.01105171, -0.01221403, -0.01349859, -0.01491825,\n",
       "       -0.01648721, -0.01822119, -0.02013753, -0.02225541, -0.02459603,\n",
       "       -0.74546465])"
      ]
     },
     "execution_count": 84,
     "metadata": {},
     "output_type": "execute_result"
    }
   ],
   "source": [
    "def B(f, h):\n",
    "    b = np.zeros(len(f))\n",
    "    for i in range(len(f)):\n",
    "        if i == 0:\n",
    "            b[i] = (h**2 * f[i]) +1\n",
    "            pass\n",
    "        elif i == len(f)-1 :\n",
    "            b[i] = (h**2 * f[i]) - (np.exp(1)-2)\n",
    "            pass\n",
    "        else :\n",
    "            b[i] = h**2 * f[i]  \n",
    "    return b\n",
    "\n",
    "B(f, h)"
   ]
  },
  {
   "cell_type": "code",
   "execution_count": 85,
   "metadata": {},
   "outputs": [
    {
     "data": {
      "text/plain": [
       "array([[ 2., -1.,  0.,  0.,  0.,  0.,  0.,  0.,  0.,  0.,  0.],\n",
       "       [-1.,  2., -1.,  0.,  0.,  0.,  0.,  0.,  0.,  0.,  0.],\n",
       "       [ 0., -1.,  2., -1.,  0.,  0.,  0.,  0.,  0.,  0.,  0.],\n",
       "       [ 0.,  0., -1.,  2., -1.,  0.,  0.,  0.,  0.,  0.,  0.],\n",
       "       [ 0.,  0.,  0., -1.,  2., -1.,  0.,  0.,  0.,  0.,  0.],\n",
       "       [ 0.,  0.,  0.,  0., -1.,  2., -1.,  0.,  0.,  0.,  0.],\n",
       "       [ 0.,  0.,  0.,  0.,  0., -1.,  2., -1.,  0.,  0.,  0.],\n",
       "       [ 0.,  0.,  0.,  0.,  0.,  0., -1.,  2., -1.,  0.,  0.],\n",
       "       [ 0.,  0.,  0.,  0.,  0.,  0.,  0., -1.,  2., -1.,  0.],\n",
       "       [ 0.,  0.,  0.,  0.,  0.,  0.,  0.,  0., -1.,  2., -1.],\n",
       "       [ 0.,  0.,  0.,  0.,  0.,  0.,  0.,  0.,  0., -1.,  2.]])"
      ]
     },
     "execution_count": 85,
     "metadata": {},
     "output_type": "execute_result"
    }
   ],
   "source": [
    "def A(n) :\n",
    "    a = np.zeros((n, n))\n",
    "    np.fill_diagonal(a, 2)\n",
    "    for i in range(n):     \n",
    "        a[i][i+1] = -1\n",
    "        a[i+1][i] = -1\n",
    "        if i == n-2 :\n",
    "            break\n",
    "    return a  \n",
    "A(11)"
   ]
  },
  {
   "cell_type": "code",
   "execution_count": 86,
   "metadata": {},
   "outputs": [
    {
     "data": {
      "text/plain": [
       "array([ 0.77709483,  0.56418966,  0.3623362 ,  0.17269677, -0.00344408,\n",
       "       -0.16466667, -0.30940206, -0.43591626, -0.54229293, -0.62641419,\n",
       "       -0.68593942])"
      ]
     },
     "execution_count": 86,
     "metadata": {},
     "output_type": "execute_result"
    }
   ],
   "source": [
    "def u(a, b):\n",
    "    return np.linalg.inv(a) @ b\n",
    "\n",
    "u_pred = u(A(11), B(f, h))    \n",
    "u_pred"
   ]
  },
  {
   "cell_type": "code",
   "execution_count": 87,
   "metadata": {},
   "outputs": [
    {
     "data": {
      "text/plain": [
       "[<matplotlib.lines.Line2D at 0x203c0ba8ac0>]"
      ]
     },
     "execution_count": 87,
     "metadata": {},
     "output_type": "execute_result"
    },
    {
     "data": {
      "image/png": "[encoded data removed]",
      "text/plain": [
       "<Figure size 432x288 with 1 Axes>"
      ]
     },
     "metadata": {
      "needs_background": "light"
     },
     "output_type": "display_data"
    }
   ],
   "source": [
    "plt.plot(x, u_pred)\n",
    "plt.xlabel('$x$')\n",
    "plt.ylabel('$u$')"
   ]
  },
  {
   "cell_type": "code",
   "execution_count": null,
   "metadata": {},
   "outputs": [],
   "source": []
  }
 ],
 "metadata": {
  "interpreter": {
   "hash": "f58cf6e73e4f029bbe056118fa6dee644f4f9335ebfaaf3e96b0425ab66bc2da"
  },
  "kernelspec": {
   "display_name": "Python 3.9.7 ('base')",
   "language": "python",
   "name": "python3"
  },
  "language_info": {
   "codemirror_mode": {
    "name": "ipython",
    "version": 3
   },
   "file_extension": ".py",
   "mimetype": "text/x-python",
   "name": "python",
   "nbconvert_exporter": "python",
   "pygments_lexer": "ipython3",
   "version": "3.9.7"
  },
  "orig_nbformat": 4
 },
 "nbformat": 4,
 "nbformat_minor": 2
}
