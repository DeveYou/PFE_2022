{
 "cells": [
  {
   "cell_type": "markdown",
   "metadata": {},
   "source": [
    "# **PFE: solution of differential equations PDEs**"
   ]
  },
  {
   "cell_type": "markdown",
   "metadata": {},
   "source": [
    "### **PART 1 : solving partial differential equations using deep learning 'Neural networks' with SciANN library**"
   ]
  },
  {
   "cell_type": "markdown",
   "metadata": {},
   "source": [
    "#### **The third type of equations is heat equation**"
   ]
  },
  {
   "cell_type": "markdown",
   "metadata": {},
   "source": [
    "   * **Importing libraries**"
   ]
  },
  {
   "cell_type": "code",
   "execution_count": 1,
   "metadata": {},
   "outputs": [
    {
     "name": "stdout",
     "output_type": "stream",
     "text": [
      "---------------------- SCIANN 0.6.5.1 ---------------------- \n",
      "For details, check out our review paper and the documentation at: \n",
      " +  \"https://www.sciencedirect.com/science/article/pii/S0045782520307374\", \n",
      " +  \"https://arxiv.org/abs/2005.08803\", \n",
      " +  \"https://www.sciann.com\". \n",
      "\n",
      " Need support or would like to contribute, please join sciann`s slack group: \n",
      " +  \"https://join.slack.com/t/sciann/shared_invite/zt-ne1f5jlx-k_dY8RGo3ZreDXwz0f~CeA\" \n",
      " \n",
      "TensorFlow Version: 2.5.3 \n",
      "Python Version: 3.9.7 (default, Sep 16 2021, 16:59:28) [MSC v.1916 64 bit (AMD64)] \n",
      "\n"
     ]
    }
   ],
   "source": [
    "import numpy as np\n",
    "import matplotlib.pyplot as plt\n",
    "import graphviz\n",
    "import sciann as sn"
   ]
  },
  {
   "cell_type": "code",
   "execution_count": 2,
   "metadata": {},
   "outputs": [],
   "source": [
    "x = sn.Variable('x', dtype='float64')\n",
    "t = sn.Variable('t', dtype='float64')\n",
    "\n",
    "T = sn.Functional('T', [x, t], 8*[20], 'tanh')"
   ]
  },
  {
   "cell_type": "code",
   "execution_count": 3,
   "metadata": {},
   "outputs": [],
   "source": [
    "T_t = sn.diff(T, t)\n",
    "T_xx = sn.diff(T, x, order=2)\n",
    "\n",
    "alpha = sn.Parameter(np.random.rand(), inputs=[x, t], name='alpha')\n"
   ]
  },
  {
   "cell_type": "code",
   "execution_count": 4,
   "metadata": {},
   "outputs": [],
   "source": [
    "L = T_t - (alpha * T_xx)"
   ]
  },
  {
   "cell_type": "code",
   "execution_count": 5,
   "metadata": {},
   "outputs": [],
   "source": [
    "np.random.seed(0)\n",
    "A = np.random.rand()\n",
    "B = np.random.rand()\n",
    "C = np.random.rand()\n",
    "C3 = A*sn.exp((T**2) * t + T*x) + B\n",
    "C4 = A * sn.exp(-(T**2) * t) * sn.cos(T*x + B) + C\n",
    "C5 = A * sn.exp(-T*x) * sn.cos((T*x) - (2* T**2 * t) + B) + C "
   ]
  },
  {
   "cell_type": "code",
   "execution_count": 30,
   "metadata": {},
   "outputs": [
    {
     "name": "stdout",
     "output_type": "stream",
     "text": [
      "Model: \"model_4\"\n",
      "__________________________________________________________________________________________________\n",
      "Layer (type)                    Output Shape         Param #     Connected to                     \n",
      "==================================================================================================\n",
      "x (InputLayer)                  [(None, 1)]          0                                            \n",
      "__________________________________________________________________________________________________\n",
      "t (InputLayer)                  [(None, 1)]          0                                            \n",
      "__________________________________________________________________________________________________\n",
      "concat (Concatenate)            (None, 2)            0           x[0][0]                          \n",
      "                                                                 t[0][0]                          \n",
      "__________________________________________________________________________________________________\n",
      "D20b (Dense)                    (None, 20)           60          concat[0][0]                     \n",
      "__________________________________________________________________________________________________\n",
      "sci_activation (SciActivation)  (None, 20)           0           D20b[0][0]                       \n",
      "__________________________________________________________________________________________________\n",
      "D20b_2 (Dense)                  (None, 20)           420         sci_activation[0][0]             \n",
      "__________________________________________________________________________________________________\n",
      "sci_activation_1 (SciActivation (None, 20)           0           D20b_2[0][0]                     \n",
      "__________________________________________________________________________________________________\n",
      "D20b_3 (Dense)                  (None, 20)           420         sci_activation_1[0][0]           \n",
      "__________________________________________________________________________________________________\n",
      "sci_activation_2 (SciActivation (None, 20)           0           D20b_3[0][0]                     \n",
      "__________________________________________________________________________________________________\n",
      "D20b_4 (Dense)                  (None, 20)           420         sci_activation_2[0][0]           \n",
      "__________________________________________________________________________________________________\n",
      "sci_activation_3 (SciActivation (None, 20)           0           D20b_4[0][0]                     \n",
      "__________________________________________________________________________________________________\n",
      "D20b_5 (Dense)                  (None, 20)           420         sci_activation_3[0][0]           \n",
      "__________________________________________________________________________________________________\n",
      "sci_activation_4 (SciActivation (None, 20)           0           D20b_5[0][0]                     \n",
      "__________________________________________________________________________________________________\n",
      "D20b_6 (Dense)                  (None, 20)           420         sci_activation_4[0][0]           \n",
      "__________________________________________________________________________________________________\n",
      "sci_activation_5 (SciActivation (None, 20)           0           D20b_6[0][0]                     \n",
      "__________________________________________________________________________________________________\n",
      "D20b_7 (Dense)                  (None, 20)           420         sci_activation_5[0][0]           \n",
      "__________________________________________________________________________________________________\n",
      "sci_activation_6 (SciActivation (None, 20)           0           D20b_7[0][0]                     \n",
      "__________________________________________________________________________________________________\n",
      "D20b_8 (Dense)                  (None, 20)           420         sci_activation_6[0][0]           \n",
      "__________________________________________________________________________________________________\n",
      "sci_activation_7 (SciActivation (None, 20)           0           D20b_8[0][0]                     \n",
      "__________________________________________________________________________________________________\n",
      "T (Field)                       (None, 1)            21          sci_activation_7[0][0]           \n",
      "__________________________________________________________________________________________________\n",
      "pow2_3 (Lambda)                 (None, 1)            0           T[0][0]                          \n",
      "__________________________________________________________________________________________________\n",
      "pow2_2 (Lambda)                 (None, 1)            0           T[0][0]                          \n",
      "__________________________________________________________________________________________________\n",
      "mul_14 (Lambda)                 (None, 1)            0           pow2_3[0][0]                     \n",
      "__________________________________________________________________________________________________\n",
      "pow2 (Lambda)                   (None, 1)            0           T[0][0]                          \n",
      "__________________________________________________________________________________________________\n",
      "mul_5 (Lambda)                  (None, 1)            0           pow2_2[0][0]                     \n",
      "__________________________________________________________________________________________________\n",
      "mul_10 (Lambda)                 (None, 1)            0           T[0][0]                          \n",
      "__________________________________________________________________________________________________\n",
      "mul_13 (Lambda)                 (None, 1)            0           T[0][0]                          \n",
      "                                                                 x[0][0]                          \n",
      "__________________________________________________________________________________________________\n",
      "mul_15 (Lambda)                 (None, 1)            0           mul_14[0][0]                     \n",
      "                                                                 t[0][0]                          \n",
      "__________________________________________________________________________________________________\n",
      "mul_2 (Lambda)                  (None, 1)            0           pow2[0][0]                       \n",
      "                                                                 t[0][0]                          \n",
      "__________________________________________________________________________________________________\n",
      "mul_3 (Lambda)                  (None, 1)            0           T[0][0]                          \n",
      "                                                                 x[0][0]                          \n",
      "__________________________________________________________________________________________________\n",
      "mul_6 (Lambda)                  (None, 1)            0           mul_5[0][0]                      \n",
      "                                                                 t[0][0]                          \n",
      "__________________________________________________________________________________________________\n",
      "mul_8 (Lambda)                  (None, 1)            0           T[0][0]                          \n",
      "                                                                 x[0][0]                          \n",
      "__________________________________________________________________________________________________\n",
      "mul_11 (Lambda)                 (None, 1)            0           mul_10[0][0]                     \n",
      "                                                                 x[0][0]                          \n",
      "__________________________________________________________________________________________________\n",
      "sub_2 (Lambda)                  (None, 1)            0           mul_13[0][0]                     \n",
      "                                                                 mul_15[0][0]                     \n",
      "__________________________________________________________________________________________________\n",
      "conct (Concatenate)             (None, 2)            0           x[0][0]                          \n",
      "                                                                 t[0][0]                          \n",
      "__________________________________________________________________________________________________\n",
      "add (Lambda)                    (None, 1)            0           mul_2[0][0]                      \n",
      "                                                                 mul_3[0][0]                      \n",
      "__________________________________________________________________________________________________\n",
      "exp_2 (Lambda)                  (None, 1)            0           mul_6[0][0]                      \n",
      "__________________________________________________________________________________________________\n",
      "add_3 (Lambda)                  (None, 1)            0           mul_8[0][0]                      \n",
      "__________________________________________________________________________________________________\n",
      "exp_3 (Lambda)                  (None, 1)            0           mul_11[0][0]                     \n",
      "__________________________________________________________________________________________________\n",
      "add_5 (Lambda)                  (None, 1)            0           sub_2[0][0]                      \n",
      "__________________________________________________________________________________________________\n",
      "alpha (ParameterBase)           (1,)                 1           conct[0][0]                      \n",
      "__________________________________________________________________________________________________\n",
      "Grad2_T_1_x/ (Lambda)           (None, 1)            0           T[0][0]                          \n",
      "__________________________________________________________________________________________________\n",
      "exp (Lambda)                    (None, 1)            0           add[0][0]                        \n",
      "__________________________________________________________________________________________________\n",
      "mul_7 (Lambda)                  (None, 1)            0           exp_2[0][0]                      \n",
      "__________________________________________________________________________________________________\n",
      "cos (Lambda)                    (None, 1)            0           add_3[0][0]                      \n",
      "__________________________________________________________________________________________________\n",
      "mul_12 (Lambda)                 (None, 1)            0           exp_3[0][0]                      \n",
      "__________________________________________________________________________________________________\n",
      "cos_2 (Lambda)                  (None, 1)            0           add_5[0][0]                      \n",
      "__________________________________________________________________________________________________\n",
      "Grad_ (Lambda)                  (None, 1)            0           T[0][0]                          \n",
      "__________________________________________________________________________________________________\n",
      "mul (Lambda)                    (None, 1)            0           alpha[0][0]                      \n",
      "                                                                 Grad2_T_1_x/[0][0]               \n",
      "__________________________________________________________________________________________________\n",
      "mul_4 (Lambda)                  (None, 1)            0           exp[0][0]                        \n",
      "__________________________________________________________________________________________________\n",
      "mul_9 (Lambda)                  (None, 1)            0           mul_7[0][0]                      \n",
      "                                                                 cos[0][0]                        \n",
      "__________________________________________________________________________________________________\n",
      "mul_16 (Lambda)                 (None, 1)            0           mul_12[0][0]                     \n",
      "                                                                 cos_2[0][0]                      \n",
      "__________________________________________________________________________________________________\n",
      "sub (Lambda)                    (None, 1)            0           Grad_[0][0]                      \n",
      "                                                                 mul[0][0]                        \n",
      "__________________________________________________________________________________________________\n",
      "add_2 (Lambda)                  (None, 1)            0           mul_4[0][0]                      \n",
      "__________________________________________________________________________________________________\n",
      "add_4 (Lambda)                  (None, 1)            0           mul_9[0][0]                      \n",
      "__________________________________________________________________________________________________\n",
      "add_6 (Lambda)                  (None, 1)            0           mul_16[0][0]                     \n",
      "==================================================================================================\n",
      "Total params: 3,022\n",
      "Trainable params: 3,022\n",
      "Non-trainable params: 0\n",
      "__________________________________________________________________________________________________\n"
     ]
    }
   ],
   "source": [
    "model = sn.SciModel([x, t], [L, C3, C4, C5], loss_func= 'mse', optimizer='adam', plot_to_file='HE-Model.png')\n",
    "model.summary()"
   ]
  },
  {
   "cell_type": "code",
   "execution_count": 7,
   "metadata": {},
   "outputs": [
    {
     "name": "stdout",
     "output_type": "stream",
     "text": [
      "(100, 100)\n",
      "(100, 100)\n"
     ]
    }
   ],
   "source": [
    "# train the network\n",
    "x_train, t_train = np.meshgrid(\n",
    "    np.linspace(0, 10, 100), \n",
    "    np.linspace(0, 10, 100)\n",
    ")\n",
    "print(x_train.shape)\n",
    "print(t_train.shape)"
   ]
  },
  {
   "cell_type": "code",
   "execution_count": 8,
   "metadata": {},
   "outputs": [
    {
     "name": "stdout",
     "output_type": "stream",
     "text": [
      "\n",
      "Total samples: 10000 \n",
      "Batch size: 64 \n",
      "Total batches: 157 \n",
      "\n",
      "\n",
      "Epoch 00082: ReduceLROnPlateau reducing learning rate to 0.0005000000237487257.\n",
      "\n",
      "Epoch 00100: ReduceLROnPlateau reducing learning rate to 0.0002500000118743628.\n"
     ]
    }
   ],
   "source": [
    "training_history = model.train([x_train, t_train], 4*['zeros'], epochs= 100, learning_rate=0.001, verbose=0)"
   ]
  },
  {
   "cell_type": "code",
   "execution_count": 9,
   "metadata": {},
   "outputs": [
    {
     "name": "stdout",
     "output_type": "stream",
     "text": [
      "alpha : [0.33761762]\n"
     ]
    }
   ],
   "source": [
    "print(f\"alpha : {alpha.value}\")"
   ]
  },
  {
   "cell_type": "code",
   "execution_count": 10,
   "metadata": {},
   "outputs": [
    {
     "data": {
      "text/plain": [
       "Text(0, 0.5, 'loss')"
      ]
     },
     "execution_count": 10,
     "metadata": {},
     "output_type": "execute_result"
    },
    {
     "data": {
      "image/png": "[encoded data removed]",
      "text/plain": [
       "<Figure size 432x288 with 1 Axes>"
      ]
     },
     "metadata": {
      "needs_background": "light"
     },
     "output_type": "display_data"
    }
   ],
   "source": [
    "plt.semilogy(training_history.history['loss'])\n",
    "plt.xlabel('epochs')\n",
    "plt.ylabel('loss')"
   ]
  },
  {
   "cell_type": "code",
   "execution_count": 20,
   "metadata": {},
   "outputs": [
    {
     "data": {
      "text/plain": [
       "array([[ 0.12382208,  0.1458718 ,  0.16163178, ...,  0.02246314,\n",
       "         0.02226601,  0.02207385],\n",
       "       [ 0.10451515,  0.12788705,  0.14579336, ...,  0.02238656,\n",
       "         0.02218862,  0.02199572],\n",
       "       [ 0.08632957,  0.10998076,  0.12899524, ...,  0.02230168,\n",
       "         0.02210396,  0.02191129],\n",
       "       ...,\n",
       "       [-0.00086467,  0.0015468 ,  0.00396726, ...,  0.01923   ,\n",
       "         0.01907315,  0.0189113 ],\n",
       "       [-0.00085871,  0.00153001,  0.0039299 , ...,  0.01924859,\n",
       "         0.01909979,  0.01894551],\n",
       "       [-0.00085244,  0.00151395,  0.00389377, ...,  0.01926009,\n",
       "         0.01911999,  0.01897411]])"
      ]
     },
     "execution_count": 20,
     "metadata": {},
     "output_type": "execute_result"
    }
   ],
   "source": [
    "T_train_eval = T.eval(model, [x_train, t_train])\n",
    "T_train_eval"
   ]
  },
  {
   "cell_type": "code",
   "execution_count": 21,
   "metadata": {},
   "outputs": [
    {
     "name": "stdout",
     "output_type": "stream",
     "text": [
      "(50, 50)\n",
      "(50, 50)\n"
     ]
    }
   ],
   "source": [
    "x_test, t_test = np.meshgrid(\n",
    "    np.linspace(0, 10, 50), \n",
    "    np.linspace(0, 10, 50)\n",
    ")\n",
    "print(x_test.shape)\n",
    "print(t_test.shape)"
   ]
  },
  {
   "cell_type": "code",
   "execution_count": 22,
   "metadata": {},
   "outputs": [
    {
     "data": {
      "text/plain": [
       "array([[ 0.12382208,  0.16189333,  0.17773603, ...,  0.02288151,\n",
       "         0.02246721,  0.02207385],\n",
       "       [ 0.08598029,  0.12899853,  0.15380953, ...,  0.02271979,\n",
       "         0.02230403,  0.02190957],\n",
       "       [ 0.05672499,  0.09867328,  0.12705062, ...,  0.02255302,\n",
       "         0.02214082,  0.02174976],\n",
       "       ...,\n",
       "       [-0.00087574,  0.00409742,  0.00882476, ...,  0.01951031,\n",
       "         0.01917808,  0.01883005],\n",
       "       [-0.00086479,  0.00401704,  0.00865478, ...,  0.01953457,\n",
       "         0.0192327 ,  0.01891055],\n",
       "       [-0.00085244,  0.00394195,  0.00849496, ...,  0.01953004,\n",
       "         0.01926289,  0.01897411]])"
      ]
     },
     "execution_count": 22,
     "metadata": {},
     "output_type": "execute_result"
    }
   ],
   "source": [
    "T_test_eval = T.eval(model, [x_test, t_test])\n",
    "T_test_eval"
   ]
  },
  {
   "cell_type": "code",
   "execution_count": 24,
   "metadata": {},
   "outputs": [
    {
     "name": "stderr",
     "output_type": "stream",
     "text": [
      "C:\\Users\\YOUSSE~1\\AppData\\Local\\Temp/ipykernel_1472/1976347678.py:2: MatplotlibDeprecationWarning: shading='flat' when X and Y have the same dimensions as C is deprecated since 3.3.  Either specify the corners of the quadrilaterals with X and Y, or pass shading='auto', 'nearest' or 'gouraud', or set rcParams['pcolor.shading'].  This will become an error two minor releases later.\n",
      "  plt.pcolor(x_test, t_test, T_test_eval, cmap='seismic')\n"
     ]
    },
    {
     "data": {
      "text/plain": [
       "<matplotlib.colorbar.Colorbar at 0x1713f9d8fa0>"
      ]
     },
     "execution_count": 24,
     "metadata": {},
     "output_type": "execute_result"
    },
    {
     "data": {
      "image/png": "[encoded data removed]",
      "text/plain": [
       "<Figure size 216x288 with 2 Axes>"
      ]
     },
     "metadata": {
      "needs_background": "light"
     },
     "output_type": "display_data"
    }
   ],
   "source": [
    "fig = plt.figure(figsize=(3, 4))\n",
    "plt.pcolor(x_test, t_test, T_test_eval, cmap='seismic')\n",
    "plt.xlabel('x')\n",
    "plt.ylabel('t')\n",
    "plt.colorbar()"
   ]
  },
  {
   "cell_type": "code",
   "execution_count": 29,
   "metadata": {},
   "outputs": [
    {
     "data": {
      "text/plain": [
       "(4, 50, 50)"
      ]
     },
     "execution_count": 29,
     "metadata": {},
     "output_type": "execute_result"
    }
   ],
   "source": [
    "T_pred = model.predict([x_test, t_test], batch_size=None, verbose=0, steps=None)\n",
    "np.array(T_pred).shape"
   ]
  },
  {
   "cell_type": "code",
   "execution_count": null,
   "metadata": {},
   "outputs": [],
   "source": []
  }
 ],
 "metadata": {
  "interpreter": {
   "hash": "f58cf6e73e4f029bbe056118fa6dee644f4f9335ebfaaf3e96b0425ab66bc2da"
  },
  "kernelspec": {
   "display_name": "Python 3.9.7 ('base')",
   "language": "python",
   "name": "python3"
  },
  "language_info": {
   "codemirror_mode": {
    "name": "ipython",
    "version": 3
   },
   "file_extension": ".py",
   "mimetype": "text/x-python",
   "name": "python",
   "nbconvert_exporter": "python",
   "pygments_lexer": "ipython3",
   "version": "3.9.7"
  },
  "orig_nbformat": 4
 },
 "nbformat": 4,
 "nbformat_minor": 2
}
